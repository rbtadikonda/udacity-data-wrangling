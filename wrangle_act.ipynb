{
 "cells": [
  {
   "cell_type": "code",
   "execution_count": 468,
   "metadata": {},
   "outputs": [],
   "source": [
    "import pandas as pd\n",
    "import numpy as np\n",
    "import requests\n",
    "import tweepy\n",
    "import json\n",
    "import os\n",
    "import matplotlib.pyplot as plt\n",
    "import seaborn as sns\n",
    "%matplotlib inline"
   ]
  },
  {
   "cell_type": "markdown",
   "metadata": {},
   "source": [
    "## Gather data"
   ]
  },
  {
   "cell_type": "code",
   "execution_count": 469,
   "metadata": {},
   "outputs": [],
   "source": [
    "# Read provided WeRateDogs twitter archive \n",
    "df_twitter_archive = pd.read_csv('twitter-archive-enhanced.csv', encoding=\"utf-8\")"
   ]
  },
  {
   "cell_type": "code",
   "execution_count": 470,
   "metadata": {},
   "outputs": [
    {
     "data": {
      "text/html": [
       "<div>\n",
       "<style scoped>\n",
       "    .dataframe tbody tr th:only-of-type {\n",
       "        vertical-align: middle;\n",
       "    }\n",
       "\n",
       "    .dataframe tbody tr th {\n",
       "        vertical-align: top;\n",
       "    }\n",
       "\n",
       "    .dataframe thead th {\n",
       "        text-align: right;\n",
       "    }\n",
       "</style>\n",
       "<table border=\"1\" class=\"dataframe\">\n",
       "  <thead>\n",
       "    <tr style=\"text-align: right;\">\n",
       "      <th></th>\n",
       "      <th>tweet_id</th>\n",
       "      <th>in_reply_to_status_id</th>\n",
       "      <th>in_reply_to_user_id</th>\n",
       "      <th>timestamp</th>\n",
       "      <th>source</th>\n",
       "      <th>text</th>\n",
       "      <th>retweeted_status_id</th>\n",
       "      <th>retweeted_status_user_id</th>\n",
       "      <th>retweeted_status_timestamp</th>\n",
       "      <th>expanded_urls</th>\n",
       "      <th>rating_numerator</th>\n",
       "      <th>rating_denominator</th>\n",
       "      <th>name</th>\n",
       "      <th>doggo</th>\n",
       "      <th>floofer</th>\n",
       "      <th>pupper</th>\n",
       "      <th>puppo</th>\n",
       "    </tr>\n",
       "  </thead>\n",
       "  <tbody>\n",
       "    <tr>\n",
       "      <th>0</th>\n",
       "      <td>892420643555336193</td>\n",
       "      <td>NaN</td>\n",
       "      <td>NaN</td>\n",
       "      <td>2017-08-01 16:23:56 +0000</td>\n",
       "      <td>&lt;a href=\"http://twitter.com/download/iphone\" r...</td>\n",
       "      <td>This is Phineas. He's a mystical boy. Only eve...</td>\n",
       "      <td>NaN</td>\n",
       "      <td>NaN</td>\n",
       "      <td>NaN</td>\n",
       "      <td>https://twitter.com/dog_rates/status/892420643...</td>\n",
       "      <td>13</td>\n",
       "      <td>10</td>\n",
       "      <td>Phineas</td>\n",
       "      <td>None</td>\n",
       "      <td>None</td>\n",
       "      <td>None</td>\n",
       "      <td>None</td>\n",
       "    </tr>\n",
       "    <tr>\n",
       "      <th>1</th>\n",
       "      <td>892177421306343426</td>\n",
       "      <td>NaN</td>\n",
       "      <td>NaN</td>\n",
       "      <td>2017-08-01 00:17:27 +0000</td>\n",
       "      <td>&lt;a href=\"http://twitter.com/download/iphone\" r...</td>\n",
       "      <td>This is Tilly. She's just checking pup on you....</td>\n",
       "      <td>NaN</td>\n",
       "      <td>NaN</td>\n",
       "      <td>NaN</td>\n",
       "      <td>https://twitter.com/dog_rates/status/892177421...</td>\n",
       "      <td>13</td>\n",
       "      <td>10</td>\n",
       "      <td>Tilly</td>\n",
       "      <td>None</td>\n",
       "      <td>None</td>\n",
       "      <td>None</td>\n",
       "      <td>None</td>\n",
       "    </tr>\n",
       "    <tr>\n",
       "      <th>2</th>\n",
       "      <td>891815181378084864</td>\n",
       "      <td>NaN</td>\n",
       "      <td>NaN</td>\n",
       "      <td>2017-07-31 00:18:03 +0000</td>\n",
       "      <td>&lt;a href=\"http://twitter.com/download/iphone\" r...</td>\n",
       "      <td>This is Archie. He is a rare Norwegian Pouncin...</td>\n",
       "      <td>NaN</td>\n",
       "      <td>NaN</td>\n",
       "      <td>NaN</td>\n",
       "      <td>https://twitter.com/dog_rates/status/891815181...</td>\n",
       "      <td>12</td>\n",
       "      <td>10</td>\n",
       "      <td>Archie</td>\n",
       "      <td>None</td>\n",
       "      <td>None</td>\n",
       "      <td>None</td>\n",
       "      <td>None</td>\n",
       "    </tr>\n",
       "    <tr>\n",
       "      <th>3</th>\n",
       "      <td>891689557279858688</td>\n",
       "      <td>NaN</td>\n",
       "      <td>NaN</td>\n",
       "      <td>2017-07-30 15:58:51 +0000</td>\n",
       "      <td>&lt;a href=\"http://twitter.com/download/iphone\" r...</td>\n",
       "      <td>This is Darla. She commenced a snooze mid meal...</td>\n",
       "      <td>NaN</td>\n",
       "      <td>NaN</td>\n",
       "      <td>NaN</td>\n",
       "      <td>https://twitter.com/dog_rates/status/891689557...</td>\n",
       "      <td>13</td>\n",
       "      <td>10</td>\n",
       "      <td>Darla</td>\n",
       "      <td>None</td>\n",
       "      <td>None</td>\n",
       "      <td>None</td>\n",
       "      <td>None</td>\n",
       "    </tr>\n",
       "    <tr>\n",
       "      <th>4</th>\n",
       "      <td>891327558926688256</td>\n",
       "      <td>NaN</td>\n",
       "      <td>NaN</td>\n",
       "      <td>2017-07-29 16:00:24 +0000</td>\n",
       "      <td>&lt;a href=\"http://twitter.com/download/iphone\" r...</td>\n",
       "      <td>This is Franklin. He would like you to stop ca...</td>\n",
       "      <td>NaN</td>\n",
       "      <td>NaN</td>\n",
       "      <td>NaN</td>\n",
       "      <td>https://twitter.com/dog_rates/status/891327558...</td>\n",
       "      <td>12</td>\n",
       "      <td>10</td>\n",
       "      <td>Franklin</td>\n",
       "      <td>None</td>\n",
       "      <td>None</td>\n",
       "      <td>None</td>\n",
       "      <td>None</td>\n",
       "    </tr>\n",
       "  </tbody>\n",
       "</table>\n",
       "</div>"
      ],
      "text/plain": [
       "             tweet_id  in_reply_to_status_id  in_reply_to_user_id  \\\n",
       "0  892420643555336193                    NaN                  NaN   \n",
       "1  892177421306343426                    NaN                  NaN   \n",
       "2  891815181378084864                    NaN                  NaN   \n",
       "3  891689557279858688                    NaN                  NaN   \n",
       "4  891327558926688256                    NaN                  NaN   \n",
       "\n",
       "                   timestamp  \\\n",
       "0  2017-08-01 16:23:56 +0000   \n",
       "1  2017-08-01 00:17:27 +0000   \n",
       "2  2017-07-31 00:18:03 +0000   \n",
       "3  2017-07-30 15:58:51 +0000   \n",
       "4  2017-07-29 16:00:24 +0000   \n",
       "\n",
       "                                              source  \\\n",
       "0  <a href=\"http://twitter.com/download/iphone\" r...   \n",
       "1  <a href=\"http://twitter.com/download/iphone\" r...   \n",
       "2  <a href=\"http://twitter.com/download/iphone\" r...   \n",
       "3  <a href=\"http://twitter.com/download/iphone\" r...   \n",
       "4  <a href=\"http://twitter.com/download/iphone\" r...   \n",
       "\n",
       "                                                text  retweeted_status_id  \\\n",
       "0  This is Phineas. He's a mystical boy. Only eve...                  NaN   \n",
       "1  This is Tilly. She's just checking pup on you....                  NaN   \n",
       "2  This is Archie. He is a rare Norwegian Pouncin...                  NaN   \n",
       "3  This is Darla. She commenced a snooze mid meal...                  NaN   \n",
       "4  This is Franklin. He would like you to stop ca...                  NaN   \n",
       "\n",
       "   retweeted_status_user_id retweeted_status_timestamp  \\\n",
       "0                       NaN                        NaN   \n",
       "1                       NaN                        NaN   \n",
       "2                       NaN                        NaN   \n",
       "3                       NaN                        NaN   \n",
       "4                       NaN                        NaN   \n",
       "\n",
       "                                       expanded_urls  rating_numerator  \\\n",
       "0  https://twitter.com/dog_rates/status/892420643...                13   \n",
       "1  https://twitter.com/dog_rates/status/892177421...                13   \n",
       "2  https://twitter.com/dog_rates/status/891815181...                12   \n",
       "3  https://twitter.com/dog_rates/status/891689557...                13   \n",
       "4  https://twitter.com/dog_rates/status/891327558...                12   \n",
       "\n",
       "   rating_denominator      name doggo floofer pupper puppo  \n",
       "0                  10   Phineas  None    None   None  None  \n",
       "1                  10     Tilly  None    None   None  None  \n",
       "2                  10    Archie  None    None   None  None  \n",
       "3                  10     Darla  None    None   None  None  \n",
       "4                  10  Franklin  None    None   None  None  "
      ]
     },
     "execution_count": 470,
     "metadata": {},
     "output_type": "execute_result"
    }
   ],
   "source": [
    "df_twitter_archive.head()"
   ]
  },
  {
   "cell_type": "code",
   "execution_count": 471,
   "metadata": {},
   "outputs": [
    {
     "data": {
      "text/plain": [
       "335079"
      ]
     },
     "execution_count": 471,
     "metadata": {},
     "output_type": "execute_result"
    }
   ],
   "source": [
    "# Programmatic import and saving of image prediction data \n",
    "url='https://d17h27t6h515a5.cloudfront.net/topher/2017/August/599fd2ad_image-predictions/image-predictions.tsv'\n",
    "response = requests.get(url)\n",
    "\n",
    "open('image_prediction.tsv', 'wb').write(response.content)"
   ]
  },
  {
   "cell_type": "code",
   "execution_count": 472,
   "metadata": {},
   "outputs": [
    {
     "data": {
      "text/html": [
       "<div>\n",
       "<style scoped>\n",
       "    .dataframe tbody tr th:only-of-type {\n",
       "        vertical-align: middle;\n",
       "    }\n",
       "\n",
       "    .dataframe tbody tr th {\n",
       "        vertical-align: top;\n",
       "    }\n",
       "\n",
       "    .dataframe thead th {\n",
       "        text-align: right;\n",
       "    }\n",
       "</style>\n",
       "<table border=\"1\" class=\"dataframe\">\n",
       "  <thead>\n",
       "    <tr style=\"text-align: right;\">\n",
       "      <th></th>\n",
       "      <th>tweet_id</th>\n",
       "      <th>jpg_url</th>\n",
       "      <th>img_num</th>\n",
       "      <th>p1</th>\n",
       "      <th>p1_conf</th>\n",
       "      <th>p1_dog</th>\n",
       "      <th>p2</th>\n",
       "      <th>p2_conf</th>\n",
       "      <th>p2_dog</th>\n",
       "      <th>p3</th>\n",
       "      <th>p3_conf</th>\n",
       "      <th>p3_dog</th>\n",
       "    </tr>\n",
       "  </thead>\n",
       "  <tbody>\n",
       "    <tr>\n",
       "      <th>0</th>\n",
       "      <td>666020888022790149</td>\n",
       "      <td>https://pbs.twimg.com/media/CT4udn0WwAA0aMy.jpg</td>\n",
       "      <td>1</td>\n",
       "      <td>Welsh_springer_spaniel</td>\n",
       "      <td>0.465074</td>\n",
       "      <td>True</td>\n",
       "      <td>collie</td>\n",
       "      <td>0.156665</td>\n",
       "      <td>True</td>\n",
       "      <td>Shetland_sheepdog</td>\n",
       "      <td>0.061428</td>\n",
       "      <td>True</td>\n",
       "    </tr>\n",
       "    <tr>\n",
       "      <th>1</th>\n",
       "      <td>666029285002620928</td>\n",
       "      <td>https://pbs.twimg.com/media/CT42GRgUYAA5iDo.jpg</td>\n",
       "      <td>1</td>\n",
       "      <td>redbone</td>\n",
       "      <td>0.506826</td>\n",
       "      <td>True</td>\n",
       "      <td>miniature_pinscher</td>\n",
       "      <td>0.074192</td>\n",
       "      <td>True</td>\n",
       "      <td>Rhodesian_ridgeback</td>\n",
       "      <td>0.072010</td>\n",
       "      <td>True</td>\n",
       "    </tr>\n",
       "    <tr>\n",
       "      <th>2</th>\n",
       "      <td>666033412701032449</td>\n",
       "      <td>https://pbs.twimg.com/media/CT4521TWwAEvMyu.jpg</td>\n",
       "      <td>1</td>\n",
       "      <td>German_shepherd</td>\n",
       "      <td>0.596461</td>\n",
       "      <td>True</td>\n",
       "      <td>malinois</td>\n",
       "      <td>0.138584</td>\n",
       "      <td>True</td>\n",
       "      <td>bloodhound</td>\n",
       "      <td>0.116197</td>\n",
       "      <td>True</td>\n",
       "    </tr>\n",
       "    <tr>\n",
       "      <th>3</th>\n",
       "      <td>666044226329800704</td>\n",
       "      <td>https://pbs.twimg.com/media/CT5Dr8HUEAA-lEu.jpg</td>\n",
       "      <td>1</td>\n",
       "      <td>Rhodesian_ridgeback</td>\n",
       "      <td>0.408143</td>\n",
       "      <td>True</td>\n",
       "      <td>redbone</td>\n",
       "      <td>0.360687</td>\n",
       "      <td>True</td>\n",
       "      <td>miniature_pinscher</td>\n",
       "      <td>0.222752</td>\n",
       "      <td>True</td>\n",
       "    </tr>\n",
       "    <tr>\n",
       "      <th>4</th>\n",
       "      <td>666049248165822465</td>\n",
       "      <td>https://pbs.twimg.com/media/CT5IQmsXIAAKY4A.jpg</td>\n",
       "      <td>1</td>\n",
       "      <td>miniature_pinscher</td>\n",
       "      <td>0.560311</td>\n",
       "      <td>True</td>\n",
       "      <td>Rottweiler</td>\n",
       "      <td>0.243682</td>\n",
       "      <td>True</td>\n",
       "      <td>Doberman</td>\n",
       "      <td>0.154629</td>\n",
       "      <td>True</td>\n",
       "    </tr>\n",
       "  </tbody>\n",
       "</table>\n",
       "</div>"
      ],
      "text/plain": [
       "             tweet_id                                          jpg_url  \\\n",
       "0  666020888022790149  https://pbs.twimg.com/media/CT4udn0WwAA0aMy.jpg   \n",
       "1  666029285002620928  https://pbs.twimg.com/media/CT42GRgUYAA5iDo.jpg   \n",
       "2  666033412701032449  https://pbs.twimg.com/media/CT4521TWwAEvMyu.jpg   \n",
       "3  666044226329800704  https://pbs.twimg.com/media/CT5Dr8HUEAA-lEu.jpg   \n",
       "4  666049248165822465  https://pbs.twimg.com/media/CT5IQmsXIAAKY4A.jpg   \n",
       "\n",
       "   img_num                      p1   p1_conf  p1_dog                  p2  \\\n",
       "0        1  Welsh_springer_spaniel  0.465074    True              collie   \n",
       "1        1                 redbone  0.506826    True  miniature_pinscher   \n",
       "2        1         German_shepherd  0.596461    True            malinois   \n",
       "3        1     Rhodesian_ridgeback  0.408143    True             redbone   \n",
       "4        1      miniature_pinscher  0.560311    True          Rottweiler   \n",
       "\n",
       "    p2_conf  p2_dog                   p3   p3_conf  p3_dog  \n",
       "0  0.156665    True    Shetland_sheepdog  0.061428    True  \n",
       "1  0.074192    True  Rhodesian_ridgeback  0.072010    True  \n",
       "2  0.138584    True           bloodhound  0.116197    True  \n",
       "3  0.360687    True   miniature_pinscher  0.222752    True  \n",
       "4  0.243682    True             Doberman  0.154629    True  "
      ]
     },
     "execution_count": 472,
     "metadata": {},
     "output_type": "execute_result"
    }
   ],
   "source": [
    "# load the file image_prediction.tsv (contains tweet image predictions \n",
    "# about breed of dog or other info in the tweet)\n",
    "df_predictions = pd.read_csv('image_prediction.tsv', sep='\\t')\n",
    "df_predictions.head()"
   ]
  },
  {
   "cell_type": "code",
   "execution_count": 443,
   "metadata": {},
   "outputs": [],
   "source": [
    "#oAuth key info from Twitter to use tweepy, info is masked\n",
    "#to safe-guard the sensitive info\n",
    "consumer_key = 'MASKED'\n",
    "consumer_secret = 'MASKED'\n",
    "access_token = 'MASKED'\n",
    "access_token_secret = 'MASKED'\n",
    "\n",
    "auth = tweepy.OAuthHandler(consumer_key, consumer_secret)\n",
    "auth.set_access_token(access_token, access_token_secret)\n",
    "\n",
    "api = tweepy.API(auth, wait_on_rate_limit=True, wait_on_rate_limit_notify=True)\n",
    "\n",
    "#tweet status\n",
    "tweet = api.get_status(df_twitter_archive.tweet_id[7], tweet_mode='extended')"
   ]
  },
  {
   "cell_type": "code",
   "execution_count": 473,
   "metadata": {},
   "outputs": [],
   "source": [
    "#create tweet_json.txt file\n",
    "file = 'tweet_json.txt'\n",
    "if not os.path.isfile(file):\n",
    "    open(file, 'w', encoding = 'UTF-8')"
   ]
  },
  {
   "cell_type": "code",
   "execution_count": 474,
   "metadata": {},
   "outputs": [],
   "source": [
    "#generate tweet id list\n",
    "tweet_ids = df_twitter_archive.tweet_id.values"
   ]
  },
  {
   "cell_type": "code",
   "execution_count": 475,
   "metadata": {
    "scrolled": false
   },
   "outputs": [
    {
     "name": "stdout",
     "output_type": "stream",
     "text": [
      "Start getting tweets\n",
      "Error in Tweet ID: 888202515573088257\n",
      "Error in Tweet ID: 873697596434513921\n",
      "Error in Tweet ID: 872668790621863937\n",
      "Error in Tweet ID: 872261713294495745\n",
      "Error in Tweet ID: 869988702071779329\n",
      "Rate limit reached. Sleeping for: 679\n",
      "Error in Tweet ID: 866816280283807744\n",
      "Error in Tweet ID: 861769973181624320\n",
      "Error in Tweet ID: 856602993587888130\n",
      "Error in Tweet ID: 851953902622658560\n",
      "Error in Tweet ID: 845459076796616705\n",
      "Error in Tweet ID: 844704788403113984\n",
      "Error in Tweet ID: 842892208864923648\n",
      "Error in Tweet ID: 837366284874571778\n",
      "Error in Tweet ID: 837012587749474308\n",
      "Error in Tweet ID: 829374341691346946\n",
      "Error in Tweet ID: 827228250799742977\n",
      "Error in Tweet ID: 812747805718642688\n",
      "Error in Tweet ID: 802247111496568832\n",
      "Error in Tweet ID: 779123168116150273\n",
      "Error in Tweet ID: 775096608509886464\n",
      "Error in Tweet ID: 771004394259247104\n",
      "Error in Tweet ID: 770743923962707968\n",
      "Error in Tweet ID: 759566828574212096\n",
      "Error in Tweet ID: 754011816964026368\n",
      "Rate limit reached. Sleeping for: 739\n",
      "Error in Tweet ID: 680055455951884288\n",
      "Rate limit reached. Sleeping for: 741\n",
      "DONE getting tweets\n"
     ]
    }
   ],
   "source": [
    "err_tweets = []\n",
    "\n",
    "print(\"Start getting tweets\")\n",
    "\n",
    "#write JSON to .txt file\n",
    "with open('tweet_json.txt', 'w', encoding = 'UTF-8') as file:\n",
    "    for tweet_id in tweet_ids:\n",
    "        try:\n",
    "            tweet = api.get_status(tweet_id, tweet_mode = 'extended')\n",
    "            json.dump(tweet._json, file)\n",
    "            file.write('\\n')\n",
    "        except Exception as e:\n",
    "            print(\"Error in Tweet ID:\", tweet_id)\n",
    "            err_tweets.append(tweet_id)\n",
    "\n",
    "#To indicate the all the tweets are processed\n",
    "print(\"DONE getting tweets\")\n"
   ]
  },
  {
   "cell_type": "code",
   "execution_count": 476,
   "metadata": {},
   "outputs": [],
   "source": [
    "# convert the JSON data to dataframe\n",
    "tweets_list = []\n",
    "with open('tweet_json.txt') as json_file:\n",
    "    for line in json_file:\n",
    "        tweets_dict = {}\n",
    "        json_data = json.loads(line)\n",
    "        tweets_dict['tweet_id'] = json_data['id']\n",
    "        tweets_dict['retweet_count'] = json_data['retweet_count']\n",
    "        tweets_dict['favorite_count'] = json_data['favorite_count']\n",
    "        tweets_dict['source_tweet'] = json_data['source']\n",
    "        tweets_dict['user'] = json_data['user']\n",
    "        tweets_list.append(tweets_dict)\n",
    "\n",
    "df_tweet_info = pd.DataFrame(tweets_list)"
   ]
  },
  {
   "cell_type": "code",
   "execution_count": 477,
   "metadata": {},
   "outputs": [
    {
     "data": {
      "text/html": [
       "<div>\n",
       "<style scoped>\n",
       "    .dataframe tbody tr th:only-of-type {\n",
       "        vertical-align: middle;\n",
       "    }\n",
       "\n",
       "    .dataframe tbody tr th {\n",
       "        vertical-align: top;\n",
       "    }\n",
       "\n",
       "    .dataframe thead th {\n",
       "        text-align: right;\n",
       "    }\n",
       "</style>\n",
       "<table border=\"1\" class=\"dataframe\">\n",
       "  <thead>\n",
       "    <tr style=\"text-align: right;\">\n",
       "      <th></th>\n",
       "      <th>favorite_count</th>\n",
       "      <th>retweet_count</th>\n",
       "      <th>source_tweet</th>\n",
       "      <th>tweet_id</th>\n",
       "      <th>user</th>\n",
       "    </tr>\n",
       "  </thead>\n",
       "  <tbody>\n",
       "    <tr>\n",
       "      <th>0</th>\n",
       "      <td>34734</td>\n",
       "      <td>7265</td>\n",
       "      <td>&lt;a href=\"http://twitter.com/download/iphone\" r...</td>\n",
       "      <td>892420643555336193</td>\n",
       "      <td>{'id': 4196983835, 'id_str': '4196983835', 'na...</td>\n",
       "    </tr>\n",
       "    <tr>\n",
       "      <th>1</th>\n",
       "      <td>30100</td>\n",
       "      <td>5437</td>\n",
       "      <td>&lt;a href=\"http://twitter.com/download/iphone\" r...</td>\n",
       "      <td>892177421306343426</td>\n",
       "      <td>{'id': 4196983835, 'id_str': '4196983835', 'na...</td>\n",
       "    </tr>\n",
       "    <tr>\n",
       "      <th>2</th>\n",
       "      <td>22653</td>\n",
       "      <td>3584</td>\n",
       "      <td>&lt;a href=\"http://twitter.com/download/iphone\" r...</td>\n",
       "      <td>891815181378084864</td>\n",
       "      <td>{'id': 4196983835, 'id_str': '4196983835', 'na...</td>\n",
       "    </tr>\n",
       "    <tr>\n",
       "      <th>3</th>\n",
       "      <td>38012</td>\n",
       "      <td>7468</td>\n",
       "      <td>&lt;a href=\"http://twitter.com/download/iphone\" r...</td>\n",
       "      <td>891689557279858688</td>\n",
       "      <td>{'id': 4196983835, 'id_str': '4196983835', 'na...</td>\n",
       "    </tr>\n",
       "    <tr>\n",
       "      <th>4</th>\n",
       "      <td>36288</td>\n",
       "      <td>8021</td>\n",
       "      <td>&lt;a href=\"http://twitter.com/download/iphone\" r...</td>\n",
       "      <td>891327558926688256</td>\n",
       "      <td>{'id': 4196983835, 'id_str': '4196983835', 'na...</td>\n",
       "    </tr>\n",
       "  </tbody>\n",
       "</table>\n",
       "</div>"
      ],
      "text/plain": [
       "   favorite_count  retweet_count  \\\n",
       "0           34734           7265   \n",
       "1           30100           5437   \n",
       "2           22653           3584   \n",
       "3           38012           7468   \n",
       "4           36288           8021   \n",
       "\n",
       "                                        source_tweet            tweet_id  \\\n",
       "0  <a href=\"http://twitter.com/download/iphone\" r...  892420643555336193   \n",
       "1  <a href=\"http://twitter.com/download/iphone\" r...  892177421306343426   \n",
       "2  <a href=\"http://twitter.com/download/iphone\" r...  891815181378084864   \n",
       "3  <a href=\"http://twitter.com/download/iphone\" r...  891689557279858688   \n",
       "4  <a href=\"http://twitter.com/download/iphone\" r...  891327558926688256   \n",
       "\n",
       "                                                user  \n",
       "0  {'id': 4196983835, 'id_str': '4196983835', 'na...  \n",
       "1  {'id': 4196983835, 'id_str': '4196983835', 'na...  \n",
       "2  {'id': 4196983835, 'id_str': '4196983835', 'na...  \n",
       "3  {'id': 4196983835, 'id_str': '4196983835', 'na...  \n",
       "4  {'id': 4196983835, 'id_str': '4196983835', 'na...  "
      ]
     },
     "execution_count": 477,
     "metadata": {},
     "output_type": "execute_result"
    }
   ],
   "source": [
    "df_tweet_info.head()"
   ]
  },
  {
   "cell_type": "markdown",
   "metadata": {},
   "source": [
    "### Assessing Data\n",
    "\n",
    "#### Assessing twitter archive data"
   ]
  },
  {
   "cell_type": "code",
   "execution_count": 478,
   "metadata": {},
   "outputs": [
    {
     "name": "stdout",
     "output_type": "stream",
     "text": [
      "<class 'pandas.core.frame.DataFrame'>\n",
      "RangeIndex: 2356 entries, 0 to 2355\n",
      "Data columns (total 17 columns):\n",
      "tweet_id                      2356 non-null int64\n",
      "in_reply_to_status_id         78 non-null float64\n",
      "in_reply_to_user_id           78 non-null float64\n",
      "timestamp                     2356 non-null object\n",
      "source                        2356 non-null object\n",
      "text                          2356 non-null object\n",
      "retweeted_status_id           181 non-null float64\n",
      "retweeted_status_user_id      181 non-null float64\n",
      "retweeted_status_timestamp    181 non-null object\n",
      "expanded_urls                 2297 non-null object\n",
      "rating_numerator              2356 non-null int64\n",
      "rating_denominator            2356 non-null int64\n",
      "name                          2356 non-null object\n",
      "doggo                         2356 non-null object\n",
      "floofer                       2356 non-null object\n",
      "pupper                        2356 non-null object\n",
      "puppo                         2356 non-null object\n",
      "dtypes: float64(4), int64(3), object(10)\n",
      "memory usage: 313.0+ KB\n"
     ]
    }
   ],
   "source": [
    "#gater info about archive data fields\n",
    "df_twitter_archive.info()"
   ]
  },
  {
   "cell_type": "code",
   "execution_count": 479,
   "metadata": {},
   "outputs": [
    {
     "data": {
      "text/plain": [
       "tweet_id                         0\n",
       "in_reply_to_status_id         2278\n",
       "in_reply_to_user_id           2278\n",
       "timestamp                        0\n",
       "source                           0\n",
       "text                             0\n",
       "retweeted_status_id           2175\n",
       "retweeted_status_user_id      2175\n",
       "retweeted_status_timestamp    2175\n",
       "expanded_urls                   59\n",
       "rating_numerator                 0\n",
       "rating_denominator               0\n",
       "name                             0\n",
       "doggo                            0\n",
       "floofer                          0\n",
       "pupper                           0\n",
       "puppo                            0\n",
       "dtype: int64"
      ]
     },
     "execution_count": 479,
     "metadata": {},
     "output_type": "execute_result"
    }
   ],
   "source": [
    "#see if there is any missing data in twitter archive\n",
    "df_twitter_archive.isnull().sum()"
   ]
  },
  {
   "cell_type": "code",
   "execution_count": 480,
   "metadata": {},
   "outputs": [
    {
     "data": {
      "text/plain": [
       "0"
      ]
     },
     "execution_count": 480,
     "metadata": {},
     "output_type": "execute_result"
    }
   ],
   "source": [
    "# look out for any duplicates in twitter archive\n",
    "df_twitter_archive.duplicated().sum()"
   ]
  },
  {
   "cell_type": "code",
   "execution_count": 481,
   "metadata": {},
   "outputs": [
    {
     "data": {
      "text/html": [
       "<div>\n",
       "<style scoped>\n",
       "    .dataframe tbody tr th:only-of-type {\n",
       "        vertical-align: middle;\n",
       "    }\n",
       "\n",
       "    .dataframe tbody tr th {\n",
       "        vertical-align: top;\n",
       "    }\n",
       "\n",
       "    .dataframe thead th {\n",
       "        text-align: right;\n",
       "    }\n",
       "</style>\n",
       "<table border=\"1\" class=\"dataframe\">\n",
       "  <thead>\n",
       "    <tr style=\"text-align: right;\">\n",
       "      <th></th>\n",
       "      <th>tweet_id</th>\n",
       "      <th>in_reply_to_status_id</th>\n",
       "      <th>in_reply_to_user_id</th>\n",
       "      <th>retweeted_status_id</th>\n",
       "      <th>retweeted_status_user_id</th>\n",
       "      <th>rating_numerator</th>\n",
       "      <th>rating_denominator</th>\n",
       "    </tr>\n",
       "  </thead>\n",
       "  <tbody>\n",
       "    <tr>\n",
       "      <th>count</th>\n",
       "      <td>2.356000e+03</td>\n",
       "      <td>7.800000e+01</td>\n",
       "      <td>7.800000e+01</td>\n",
       "      <td>1.810000e+02</td>\n",
       "      <td>1.810000e+02</td>\n",
       "      <td>2356.000000</td>\n",
       "      <td>2356.000000</td>\n",
       "    </tr>\n",
       "    <tr>\n",
       "      <th>mean</th>\n",
       "      <td>7.427716e+17</td>\n",
       "      <td>7.455079e+17</td>\n",
       "      <td>2.014171e+16</td>\n",
       "      <td>7.720400e+17</td>\n",
       "      <td>1.241698e+16</td>\n",
       "      <td>13.126486</td>\n",
       "      <td>10.455433</td>\n",
       "    </tr>\n",
       "    <tr>\n",
       "      <th>std</th>\n",
       "      <td>6.856705e+16</td>\n",
       "      <td>7.582492e+16</td>\n",
       "      <td>1.252797e+17</td>\n",
       "      <td>6.236928e+16</td>\n",
       "      <td>9.599254e+16</td>\n",
       "      <td>45.876648</td>\n",
       "      <td>6.745237</td>\n",
       "    </tr>\n",
       "    <tr>\n",
       "      <th>min</th>\n",
       "      <td>6.660209e+17</td>\n",
       "      <td>6.658147e+17</td>\n",
       "      <td>1.185634e+07</td>\n",
       "      <td>6.661041e+17</td>\n",
       "      <td>7.832140e+05</td>\n",
       "      <td>0.000000</td>\n",
       "      <td>0.000000</td>\n",
       "    </tr>\n",
       "    <tr>\n",
       "      <th>25%</th>\n",
       "      <td>6.783989e+17</td>\n",
       "      <td>6.757419e+17</td>\n",
       "      <td>3.086374e+08</td>\n",
       "      <td>7.186315e+17</td>\n",
       "      <td>4.196984e+09</td>\n",
       "      <td>10.000000</td>\n",
       "      <td>10.000000</td>\n",
       "    </tr>\n",
       "    <tr>\n",
       "      <th>50%</th>\n",
       "      <td>7.196279e+17</td>\n",
       "      <td>7.038708e+17</td>\n",
       "      <td>4.196984e+09</td>\n",
       "      <td>7.804657e+17</td>\n",
       "      <td>4.196984e+09</td>\n",
       "      <td>11.000000</td>\n",
       "      <td>10.000000</td>\n",
       "    </tr>\n",
       "    <tr>\n",
       "      <th>75%</th>\n",
       "      <td>7.993373e+17</td>\n",
       "      <td>8.257804e+17</td>\n",
       "      <td>4.196984e+09</td>\n",
       "      <td>8.203146e+17</td>\n",
       "      <td>4.196984e+09</td>\n",
       "      <td>12.000000</td>\n",
       "      <td>10.000000</td>\n",
       "    </tr>\n",
       "    <tr>\n",
       "      <th>max</th>\n",
       "      <td>8.924206e+17</td>\n",
       "      <td>8.862664e+17</td>\n",
       "      <td>8.405479e+17</td>\n",
       "      <td>8.874740e+17</td>\n",
       "      <td>7.874618e+17</td>\n",
       "      <td>1776.000000</td>\n",
       "      <td>170.000000</td>\n",
       "    </tr>\n",
       "  </tbody>\n",
       "</table>\n",
       "</div>"
      ],
      "text/plain": [
       "           tweet_id  in_reply_to_status_id  in_reply_to_user_id  \\\n",
       "count  2.356000e+03           7.800000e+01         7.800000e+01   \n",
       "mean   7.427716e+17           7.455079e+17         2.014171e+16   \n",
       "std    6.856705e+16           7.582492e+16         1.252797e+17   \n",
       "min    6.660209e+17           6.658147e+17         1.185634e+07   \n",
       "25%    6.783989e+17           6.757419e+17         3.086374e+08   \n",
       "50%    7.196279e+17           7.038708e+17         4.196984e+09   \n",
       "75%    7.993373e+17           8.257804e+17         4.196984e+09   \n",
       "max    8.924206e+17           8.862664e+17         8.405479e+17   \n",
       "\n",
       "       retweeted_status_id  retweeted_status_user_id  rating_numerator  \\\n",
       "count         1.810000e+02              1.810000e+02       2356.000000   \n",
       "mean          7.720400e+17              1.241698e+16         13.126486   \n",
       "std           6.236928e+16              9.599254e+16         45.876648   \n",
       "min           6.661041e+17              7.832140e+05          0.000000   \n",
       "25%           7.186315e+17              4.196984e+09         10.000000   \n",
       "50%           7.804657e+17              4.196984e+09         11.000000   \n",
       "75%           8.203146e+17              4.196984e+09         12.000000   \n",
       "max           8.874740e+17              7.874618e+17       1776.000000   \n",
       "\n",
       "       rating_denominator  \n",
       "count         2356.000000  \n",
       "mean            10.455433  \n",
       "std              6.745237  \n",
       "min              0.000000  \n",
       "25%             10.000000  \n",
       "50%             10.000000  \n",
       "75%             10.000000  \n",
       "max            170.000000  "
      ]
     },
     "execution_count": 481,
     "metadata": {},
     "output_type": "execute_result"
    }
   ],
   "source": [
    "#descriptive for twitter archive\n",
    "df_twitter_archive.describe()"
   ]
  },
  {
   "cell_type": "code",
   "execution_count": 482,
   "metadata": {},
   "outputs": [],
   "source": [
    "#visual inspection of df_twitter_archive data \n",
    "#(uncomment the following line to inspect the data)\n",
    "# or the visual inspection can be done at \n",
    "# source file : twitter-archive-enhanced.csv\n",
    "\n",
    "#df_twitter_archive"
   ]
  },
  {
   "cell_type": "code",
   "execution_count": 483,
   "metadata": {},
   "outputs": [
    {
     "data": {
      "text/plain": [
       "None         745\n",
       "a             55\n",
       "Charlie       12\n",
       "Oliver        11\n",
       "Lucy          11\n",
       "Cooper        11\n",
       "Lola          10\n",
       "Penny         10\n",
       "Tucker        10\n",
       "Bo             9\n",
       "Winston        9\n",
       "the            8\n",
       "Sadie          8\n",
       "Buddy          7\n",
       "Daisy          7\n",
       "Toby           7\n",
       "Bailey         7\n",
       "an             7\n",
       "Jax            6\n",
       "Bella          6\n",
       "Rusty          6\n",
       "Scout          6\n",
       "Dave           6\n",
       "Stanley        6\n",
       "Koda           6\n",
       "Leo            6\n",
       "Oscar          6\n",
       "Milo           6\n",
       "Jack           6\n",
       "Sunny          5\n",
       "            ... \n",
       "Nida           1\n",
       "Aqua           1\n",
       "Gustaf         1\n",
       "Rinna          1\n",
       "Crouton        1\n",
       "Ozzie          1\n",
       "Vince          1\n",
       "Tater          1\n",
       "Charl          1\n",
       "Taco           1\n",
       "Karl           1\n",
       "Edd            1\n",
       "Alejandro      1\n",
       "Ronnie         1\n",
       "Stuart         1\n",
       "Severus        1\n",
       "Gabby          1\n",
       "Rolf           1\n",
       "Horace         1\n",
       "Julius         1\n",
       "Shelby         1\n",
       "Link           1\n",
       "Saydee         1\n",
       "Juckson        1\n",
       "Ulysses        1\n",
       "Beckham        1\n",
       "Rumpole        1\n",
       "Dex            1\n",
       "Cuddles        1\n",
       "light          1\n",
       "Name: name, Length: 957, dtype: int64"
      ]
     },
     "execution_count": 483,
     "metadata": {},
     "output_type": "execute_result"
    }
   ],
   "source": [
    "# Assess the 'name' column in twitter archive\n",
    "df_twitter_archive.name.value_counts()"
   ]
  },
  {
   "cell_type": "code",
   "execution_count": 484,
   "metadata": {},
   "outputs": [
    {
     "data": {
      "text/plain": [
       "12      558\n",
       "11      464\n",
       "10      461\n",
       "13      351\n",
       "9       158\n",
       "8       102\n",
       "7        55\n",
       "14       54\n",
       "5        37\n",
       "6        32\n",
       "3        19\n",
       "4        17\n",
       "1         9\n",
       "2         9\n",
       "420       2\n",
       "0         2\n",
       "15        2\n",
       "75        2\n",
       "80        1\n",
       "20        1\n",
       "24        1\n",
       "26        1\n",
       "44        1\n",
       "50        1\n",
       "60        1\n",
       "165       1\n",
       "84        1\n",
       "88        1\n",
       "144       1\n",
       "182       1\n",
       "143       1\n",
       "666       1\n",
       "960       1\n",
       "1776      1\n",
       "17        1\n",
       "27        1\n",
       "45        1\n",
       "99        1\n",
       "121       1\n",
       "204       1\n",
       "Name: rating_numerator, dtype: int64"
      ]
     },
     "execution_count": 484,
     "metadata": {},
     "output_type": "execute_result"
    }
   ],
   "source": [
    "#peek at rating_numerator\n",
    "df_twitter_archive.rating_numerator.value_counts()"
   ]
  },
  {
   "cell_type": "code",
   "execution_count": 485,
   "metadata": {},
   "outputs": [
    {
     "data": {
      "text/plain": [
       "count    2356.000000\n",
       "mean       13.126486\n",
       "std        45.876648\n",
       "min         0.000000\n",
       "25%        10.000000\n",
       "50%        11.000000\n",
       "75%        12.000000\n",
       "max      1776.000000\n",
       "Name: rating_numerator, dtype: float64"
      ]
     },
     "execution_count": 485,
     "metadata": {},
     "output_type": "execute_result"
    }
   ],
   "source": [
    "#gather descriptive stats for rating_numerator\n",
    "df_twitter_archive.rating_numerator.describe()"
   ]
  },
  {
   "cell_type": "code",
   "execution_count": 486,
   "metadata": {},
   "outputs": [
    {
     "data": {
      "text/plain": [
       "10     2333\n",
       "11        3\n",
       "50        3\n",
       "80        2\n",
       "20        2\n",
       "2         1\n",
       "16        1\n",
       "40        1\n",
       "70        1\n",
       "15        1\n",
       "90        1\n",
       "110       1\n",
       "120       1\n",
       "130       1\n",
       "150       1\n",
       "170       1\n",
       "7         1\n",
       "0         1\n",
       "Name: rating_denominator, dtype: int64"
      ]
     },
     "execution_count": 486,
     "metadata": {},
     "output_type": "execute_result"
    }
   ],
   "source": [
    "#peek at rating_denomiator\n",
    "df_twitter_archive.rating_denominator.value_counts()"
   ]
  },
  {
   "cell_type": "code",
   "execution_count": 487,
   "metadata": {},
   "outputs": [
    {
     "data": {
      "text/plain": [
       "count    2356.000000\n",
       "mean       10.455433\n",
       "std         6.745237\n",
       "min         0.000000\n",
       "25%        10.000000\n",
       "50%        10.000000\n",
       "75%        10.000000\n",
       "max       170.000000\n",
       "Name: rating_denominator, dtype: float64"
      ]
     },
     "execution_count": 487,
     "metadata": {},
     "output_type": "execute_result"
    }
   ],
   "source": [
    "#descriptive stats about rating_denominator \n",
    "df_twitter_archive.rating_denominator.describe()"
   ]
  },
  {
   "cell_type": "code",
   "execution_count": 488,
   "metadata": {},
   "outputs": [
    {
     "data": {
      "text/plain": [
       "<a href=\"http://twitter.com/download/iphone\" rel=\"nofollow\">Twitter for iPhone</a>     2221\n",
       "<a href=\"http://vine.co\" rel=\"nofollow\">Vine - Make a Scene</a>                          91\n",
       "<a href=\"http://twitter.com\" rel=\"nofollow\">Twitter Web Client</a>                       33\n",
       "<a href=\"https://about.twitter.com/products/tweetdeck\" rel=\"nofollow\">TweetDeck</a>      11\n",
       "Name: source, dtype: int64"
      ]
     },
     "execution_count": 488,
     "metadata": {},
     "output_type": "execute_result"
    }
   ],
   "source": [
    "#info about source column\n",
    "df_twitter_archive.source.value_counts()"
   ]
  },
  {
   "cell_type": "code",
   "execution_count": 489,
   "metadata": {},
   "outputs": [
    {
     "data": {
      "text/plain": [
       "(2356,)"
      ]
     },
     "execution_count": 489,
     "metadata": {},
     "output_type": "execute_result"
    }
   ],
   "source": [
    "#verify if classification of dogs is OK\n",
    "df_twitter_archive.doggo.shape"
   ]
  },
  {
   "cell_type": "code",
   "execution_count": 490,
   "metadata": {},
   "outputs": [
    {
     "data": {
      "text/plain": [
       "(1, 17)"
      ]
     },
     "execution_count": 490,
     "metadata": {},
     "output_type": "execute_result"
    }
   ],
   "source": [
    "df_twitter_archive[(df_twitter_archive['doggo'] != 'None') &\n",
    "                   (df_twitter_archive['floofer'] != 'None')].shape"
   ]
  },
  {
   "cell_type": "code",
   "execution_count": 491,
   "metadata": {},
   "outputs": [
    {
     "data": {
      "text/plain": [
       "(12, 17)"
      ]
     },
     "execution_count": 491,
     "metadata": {},
     "output_type": "execute_result"
    }
   ],
   "source": [
    "df_twitter_archive[(df_twitter_archive['doggo'] != 'None') &\n",
    "                   (df_twitter_archive['pupper'] != 'None')].shape"
   ]
  },
  {
   "cell_type": "code",
   "execution_count": 492,
   "metadata": {},
   "outputs": [
    {
     "data": {
      "text/plain": [
       "(1, 17)"
      ]
     },
     "execution_count": 492,
     "metadata": {},
     "output_type": "execute_result"
    }
   ],
   "source": [
    "df_twitter_archive[(df_twitter_archive['doggo'] != 'None') &\n",
    "                   (df_twitter_archive['puppo'] != 'None')].shape"
   ]
  },
  {
   "cell_type": "code",
   "execution_count": 493,
   "metadata": {},
   "outputs": [
    {
     "data": {
      "text/plain": [
       "(0, 17)"
      ]
     },
     "execution_count": 493,
     "metadata": {},
     "output_type": "execute_result"
    }
   ],
   "source": [
    "df_twitter_archive[(df_twitter_archive['floofer'] != 'None') &\n",
    "                   (df_twitter_archive['puppo'] != 'None')].shape"
   ]
  },
  {
   "cell_type": "code",
   "execution_count": 494,
   "metadata": {},
   "outputs": [
    {
     "data": {
      "text/plain": [
       "(0, 17)"
      ]
     },
     "execution_count": 494,
     "metadata": {},
     "output_type": "execute_result"
    }
   ],
   "source": [
    "df_twitter_archive[(df_twitter_archive['floofer'] != 'None') &\n",
    "                   (df_twitter_archive['pupper'] != 'None')].shape"
   ]
  },
  {
   "cell_type": "code",
   "execution_count": 495,
   "metadata": {},
   "outputs": [
    {
     "data": {
      "text/plain": [
       "(0, 17)"
      ]
     },
     "execution_count": 495,
     "metadata": {},
     "output_type": "execute_result"
    }
   ],
   "source": [
    "df_twitter_archive[(df_twitter_archive['pupper'] != 'None') &\n",
    "                   (df_twitter_archive['puppo'] != 'None')].shape"
   ]
  },
  {
   "cell_type": "markdown",
   "metadata": {},
   "source": [
    "#### Assessing Prediction data"
   ]
  },
  {
   "cell_type": "code",
   "execution_count": 496,
   "metadata": {},
   "outputs": [
    {
     "name": "stdout",
     "output_type": "stream",
     "text": [
      "<class 'pandas.core.frame.DataFrame'>\n",
      "RangeIndex: 2075 entries, 0 to 2074\n",
      "Data columns (total 12 columns):\n",
      "tweet_id    2075 non-null int64\n",
      "jpg_url     2075 non-null object\n",
      "img_num     2075 non-null int64\n",
      "p1          2075 non-null object\n",
      "p1_conf     2075 non-null float64\n",
      "p1_dog      2075 non-null bool\n",
      "p2          2075 non-null object\n",
      "p2_conf     2075 non-null float64\n",
      "p2_dog      2075 non-null bool\n",
      "p3          2075 non-null object\n",
      "p3_conf     2075 non-null float64\n",
      "p3_dog      2075 non-null bool\n",
      "dtypes: bool(3), float64(3), int64(2), object(4)\n",
      "memory usage: 152.1+ KB\n"
     ]
    }
   ],
   "source": [
    "#Find out any missing prediction data\n",
    "df_predictions.info()"
   ]
  },
  {
   "cell_type": "code",
   "execution_count": 497,
   "metadata": {},
   "outputs": [
    {
     "data": {
      "text/plain": [
       "0"
      ]
     },
     "execution_count": 497,
     "metadata": {},
     "output_type": "execute_result"
    }
   ],
   "source": [
    "#find if there are any duplicate rows in prediction data\n",
    "df_predictions.duplicated().sum()"
   ]
  },
  {
   "cell_type": "code",
   "execution_count": 498,
   "metadata": {
    "scrolled": true
   },
   "outputs": [
    {
     "data": {
      "text/html": [
       "<div>\n",
       "<style scoped>\n",
       "    .dataframe tbody tr th:only-of-type {\n",
       "        vertical-align: middle;\n",
       "    }\n",
       "\n",
       "    .dataframe tbody tr th {\n",
       "        vertical-align: top;\n",
       "    }\n",
       "\n",
       "    .dataframe thead th {\n",
       "        text-align: right;\n",
       "    }\n",
       "</style>\n",
       "<table border=\"1\" class=\"dataframe\">\n",
       "  <thead>\n",
       "    <tr style=\"text-align: right;\">\n",
       "      <th></th>\n",
       "      <th>tweet_id</th>\n",
       "      <th>img_num</th>\n",
       "      <th>p1_conf</th>\n",
       "      <th>p2_conf</th>\n",
       "      <th>p3_conf</th>\n",
       "    </tr>\n",
       "  </thead>\n",
       "  <tbody>\n",
       "    <tr>\n",
       "      <th>count</th>\n",
       "      <td>2.075000e+03</td>\n",
       "      <td>2075.000000</td>\n",
       "      <td>2075.000000</td>\n",
       "      <td>2.075000e+03</td>\n",
       "      <td>2.075000e+03</td>\n",
       "    </tr>\n",
       "    <tr>\n",
       "      <th>mean</th>\n",
       "      <td>7.384514e+17</td>\n",
       "      <td>1.203855</td>\n",
       "      <td>0.594548</td>\n",
       "      <td>1.345886e-01</td>\n",
       "      <td>6.032417e-02</td>\n",
       "    </tr>\n",
       "    <tr>\n",
       "      <th>std</th>\n",
       "      <td>6.785203e+16</td>\n",
       "      <td>0.561875</td>\n",
       "      <td>0.271174</td>\n",
       "      <td>1.006657e-01</td>\n",
       "      <td>5.090593e-02</td>\n",
       "    </tr>\n",
       "    <tr>\n",
       "      <th>min</th>\n",
       "      <td>6.660209e+17</td>\n",
       "      <td>1.000000</td>\n",
       "      <td>0.044333</td>\n",
       "      <td>1.011300e-08</td>\n",
       "      <td>1.740170e-10</td>\n",
       "    </tr>\n",
       "    <tr>\n",
       "      <th>25%</th>\n",
       "      <td>6.764835e+17</td>\n",
       "      <td>1.000000</td>\n",
       "      <td>0.364412</td>\n",
       "      <td>5.388625e-02</td>\n",
       "      <td>1.622240e-02</td>\n",
       "    </tr>\n",
       "    <tr>\n",
       "      <th>50%</th>\n",
       "      <td>7.119988e+17</td>\n",
       "      <td>1.000000</td>\n",
       "      <td>0.588230</td>\n",
       "      <td>1.181810e-01</td>\n",
       "      <td>4.944380e-02</td>\n",
       "    </tr>\n",
       "    <tr>\n",
       "      <th>75%</th>\n",
       "      <td>7.932034e+17</td>\n",
       "      <td>1.000000</td>\n",
       "      <td>0.843855</td>\n",
       "      <td>1.955655e-01</td>\n",
       "      <td>9.180755e-02</td>\n",
       "    </tr>\n",
       "    <tr>\n",
       "      <th>max</th>\n",
       "      <td>8.924206e+17</td>\n",
       "      <td>4.000000</td>\n",
       "      <td>1.000000</td>\n",
       "      <td>4.880140e-01</td>\n",
       "      <td>2.734190e-01</td>\n",
       "    </tr>\n",
       "  </tbody>\n",
       "</table>\n",
       "</div>"
      ],
      "text/plain": [
       "           tweet_id      img_num      p1_conf       p2_conf       p3_conf\n",
       "count  2.075000e+03  2075.000000  2075.000000  2.075000e+03  2.075000e+03\n",
       "mean   7.384514e+17     1.203855     0.594548  1.345886e-01  6.032417e-02\n",
       "std    6.785203e+16     0.561875     0.271174  1.006657e-01  5.090593e-02\n",
       "min    6.660209e+17     1.000000     0.044333  1.011300e-08  1.740170e-10\n",
       "25%    6.764835e+17     1.000000     0.364412  5.388625e-02  1.622240e-02\n",
       "50%    7.119988e+17     1.000000     0.588230  1.181810e-01  4.944380e-02\n",
       "75%    7.932034e+17     1.000000     0.843855  1.955655e-01  9.180755e-02\n",
       "max    8.924206e+17     4.000000     1.000000  4.880140e-01  2.734190e-01"
      ]
     },
     "execution_count": 498,
     "metadata": {},
     "output_type": "execute_result"
    }
   ],
   "source": [
    "# descriptive statistics for predictions\n",
    "df_predictions.describe()"
   ]
  },
  {
   "cell_type": "markdown",
   "metadata": {},
   "source": [
    "#### Assessing tweet information"
   ]
  },
  {
   "cell_type": "code",
   "execution_count": 499,
   "metadata": {},
   "outputs": [
    {
     "name": "stdout",
     "output_type": "stream",
     "text": [
      "<class 'pandas.core.frame.DataFrame'>\n",
      "RangeIndex: 2331 entries, 0 to 2330\n",
      "Data columns (total 5 columns):\n",
      "favorite_count    2331 non-null int64\n",
      "retweet_count     2331 non-null int64\n",
      "source_tweet      2331 non-null object\n",
      "tweet_id          2331 non-null int64\n",
      "user              2331 non-null object\n",
      "dtypes: int64(3), object(2)\n",
      "memory usage: 91.1+ KB\n"
     ]
    }
   ],
   "source": [
    "#initial assessment if there is any missing data\n",
    "df_tweet_info.info()"
   ]
  },
  {
   "cell_type": "code",
   "execution_count": 500,
   "metadata": {},
   "outputs": [
    {
     "data": {
      "text/plain": [
       "0"
      ]
     },
     "execution_count": 500,
     "metadata": {},
     "output_type": "execute_result"
    }
   ],
   "source": [
    "#any duplicate data?\n",
    "df_tweet_info.tweet_id.duplicated().sum()"
   ]
  },
  {
   "cell_type": "markdown",
   "metadata": {},
   "source": [
    "### Observations about assessed information\n",
    "\n",
    "**twitter archive**\n",
    "\n",
    "* Several columns for this data have missing info\n",
    "  1. in_reply_to_status_id (clean)\n",
    "  2. in_reply_to_user_id   (clean)\n",
    "  3. retweeted_status_id   (clean)\n",
    "  4. retweeted_status_user_id  (clean)\n",
    "  5. expanded_urls         (clean)\n",
    "\n",
    "* several columns have 'None' value  (clean)\n",
    "* some of the rows in expanded_url have reference to different urls separated by commas (tidiness)\n",
    "* 'text' column has a combo of description , ratings and shortened urls (tidiness)\n",
    "* Some of the values in 'name' column start with lower-case and also contain inappropriate values for 'name' (such as : 'a', 'an', 'quite' etc.) (clean)\n",
    "* dog types (i.e., doggo, floofer, puppoer and puppo) can be be combined into one column (tidiness)\n",
    "* Some of the rows have classified the dogs into two types (e.g., same row has value both in doggo and floofer columns) - (tidiness)\n",
    "\n",
    "**image prediction**\n",
    "* some of the names in predictions table are lower-case (clean)\n",
    "\n",
    "** **\n",
    "* df_tweet_info, df_predictions and df_twitter_archive can be merged as they are related (based on tweet_id)\n",
    "     "
   ]
  },
  {
   "cell_type": "markdown",
   "metadata": {},
   "source": [
    "### Cleaning the data"
   ]
  },
  {
   "cell_type": "markdown",
   "metadata": {},
   "source": [
    "#### Define\n",
    "\n",
    "1. Drop the unused columns from archive data (in_reply_to_status_id, in_reply_to_user_id, retweeted_status_id, retweeted_status_timestamp)\n"
   ]
  },
  {
   "cell_type": "code",
   "execution_count": 501,
   "metadata": {},
   "outputs": [],
   "source": [
    "#make a copy of dataframe before commencing the clean\n",
    "\n",
    "df_arch_clean = df_twitter_archive.copy()"
   ]
  },
  {
   "cell_type": "code",
   "execution_count": 502,
   "metadata": {},
   "outputs": [],
   "source": [
    "# Remove the unnecessary columns from archive\n",
    "df_arch_clean.drop(['in_reply_to_status_id', 'in_reply_to_user_id', \n",
    "                    'retweeted_status_id', 'retweeted_status_user_id',\n",
    "                    'retweeted_status_timestamp'], axis=1, inplace=True)"
   ]
  },
  {
   "cell_type": "code",
   "execution_count": 503,
   "metadata": {
    "scrolled": true
   },
   "outputs": [
    {
     "data": {
      "text/html": [
       "<div>\n",
       "<style scoped>\n",
       "    .dataframe tbody tr th:only-of-type {\n",
       "        vertical-align: middle;\n",
       "    }\n",
       "\n",
       "    .dataframe tbody tr th {\n",
       "        vertical-align: top;\n",
       "    }\n",
       "\n",
       "    .dataframe thead th {\n",
       "        text-align: right;\n",
       "    }\n",
       "</style>\n",
       "<table border=\"1\" class=\"dataframe\">\n",
       "  <thead>\n",
       "    <tr style=\"text-align: right;\">\n",
       "      <th></th>\n",
       "      <th>tweet_id</th>\n",
       "      <th>timestamp</th>\n",
       "      <th>source</th>\n",
       "      <th>text</th>\n",
       "      <th>expanded_urls</th>\n",
       "      <th>rating_numerator</th>\n",
       "      <th>rating_denominator</th>\n",
       "      <th>name</th>\n",
       "      <th>doggo</th>\n",
       "      <th>floofer</th>\n",
       "      <th>pupper</th>\n",
       "      <th>puppo</th>\n",
       "    </tr>\n",
       "  </thead>\n",
       "  <tbody>\n",
       "    <tr>\n",
       "      <th>0</th>\n",
       "      <td>892420643555336193</td>\n",
       "      <td>2017-08-01 16:23:56 +0000</td>\n",
       "      <td>&lt;a href=\"http://twitter.com/download/iphone\" r...</td>\n",
       "      <td>This is Phineas. He's a mystical boy. Only eve...</td>\n",
       "      <td>https://twitter.com/dog_rates/status/892420643...</td>\n",
       "      <td>13</td>\n",
       "      <td>10</td>\n",
       "      <td>Phineas</td>\n",
       "      <td>None</td>\n",
       "      <td>None</td>\n",
       "      <td>None</td>\n",
       "      <td>None</td>\n",
       "    </tr>\n",
       "    <tr>\n",
       "      <th>1</th>\n",
       "      <td>892177421306343426</td>\n",
       "      <td>2017-08-01 00:17:27 +0000</td>\n",
       "      <td>&lt;a href=\"http://twitter.com/download/iphone\" r...</td>\n",
       "      <td>This is Tilly. She's just checking pup on you....</td>\n",
       "      <td>https://twitter.com/dog_rates/status/892177421...</td>\n",
       "      <td>13</td>\n",
       "      <td>10</td>\n",
       "      <td>Tilly</td>\n",
       "      <td>None</td>\n",
       "      <td>None</td>\n",
       "      <td>None</td>\n",
       "      <td>None</td>\n",
       "    </tr>\n",
       "    <tr>\n",
       "      <th>2</th>\n",
       "      <td>891815181378084864</td>\n",
       "      <td>2017-07-31 00:18:03 +0000</td>\n",
       "      <td>&lt;a href=\"http://twitter.com/download/iphone\" r...</td>\n",
       "      <td>This is Archie. He is a rare Norwegian Pouncin...</td>\n",
       "      <td>https://twitter.com/dog_rates/status/891815181...</td>\n",
       "      <td>12</td>\n",
       "      <td>10</td>\n",
       "      <td>Archie</td>\n",
       "      <td>None</td>\n",
       "      <td>None</td>\n",
       "      <td>None</td>\n",
       "      <td>None</td>\n",
       "    </tr>\n",
       "    <tr>\n",
       "      <th>3</th>\n",
       "      <td>891689557279858688</td>\n",
       "      <td>2017-07-30 15:58:51 +0000</td>\n",
       "      <td>&lt;a href=\"http://twitter.com/download/iphone\" r...</td>\n",
       "      <td>This is Darla. She commenced a snooze mid meal...</td>\n",
       "      <td>https://twitter.com/dog_rates/status/891689557...</td>\n",
       "      <td>13</td>\n",
       "      <td>10</td>\n",
       "      <td>Darla</td>\n",
       "      <td>None</td>\n",
       "      <td>None</td>\n",
       "      <td>None</td>\n",
       "      <td>None</td>\n",
       "    </tr>\n",
       "    <tr>\n",
       "      <th>4</th>\n",
       "      <td>891327558926688256</td>\n",
       "      <td>2017-07-29 16:00:24 +0000</td>\n",
       "      <td>&lt;a href=\"http://twitter.com/download/iphone\" r...</td>\n",
       "      <td>This is Franklin. He would like you to stop ca...</td>\n",
       "      <td>https://twitter.com/dog_rates/status/891327558...</td>\n",
       "      <td>12</td>\n",
       "      <td>10</td>\n",
       "      <td>Franklin</td>\n",
       "      <td>None</td>\n",
       "      <td>None</td>\n",
       "      <td>None</td>\n",
       "      <td>None</td>\n",
       "    </tr>\n",
       "  </tbody>\n",
       "</table>\n",
       "</div>"
      ],
      "text/plain": [
       "             tweet_id                  timestamp  \\\n",
       "0  892420643555336193  2017-08-01 16:23:56 +0000   \n",
       "1  892177421306343426  2017-08-01 00:17:27 +0000   \n",
       "2  891815181378084864  2017-07-31 00:18:03 +0000   \n",
       "3  891689557279858688  2017-07-30 15:58:51 +0000   \n",
       "4  891327558926688256  2017-07-29 16:00:24 +0000   \n",
       "\n",
       "                                              source  \\\n",
       "0  <a href=\"http://twitter.com/download/iphone\" r...   \n",
       "1  <a href=\"http://twitter.com/download/iphone\" r...   \n",
       "2  <a href=\"http://twitter.com/download/iphone\" r...   \n",
       "3  <a href=\"http://twitter.com/download/iphone\" r...   \n",
       "4  <a href=\"http://twitter.com/download/iphone\" r...   \n",
       "\n",
       "                                                text  \\\n",
       "0  This is Phineas. He's a mystical boy. Only eve...   \n",
       "1  This is Tilly. She's just checking pup on you....   \n",
       "2  This is Archie. He is a rare Norwegian Pouncin...   \n",
       "3  This is Darla. She commenced a snooze mid meal...   \n",
       "4  This is Franklin. He would like you to stop ca...   \n",
       "\n",
       "                                       expanded_urls  rating_numerator  \\\n",
       "0  https://twitter.com/dog_rates/status/892420643...                13   \n",
       "1  https://twitter.com/dog_rates/status/892177421...                13   \n",
       "2  https://twitter.com/dog_rates/status/891815181...                12   \n",
       "3  https://twitter.com/dog_rates/status/891689557...                13   \n",
       "4  https://twitter.com/dog_rates/status/891327558...                12   \n",
       "\n",
       "   rating_denominator      name doggo floofer pupper puppo  \n",
       "0                  10   Phineas  None    None   None  None  \n",
       "1                  10     Tilly  None    None   None  None  \n",
       "2                  10    Archie  None    None   None  None  \n",
       "3                  10     Darla  None    None   None  None  \n",
       "4                  10  Franklin  None    None   None  None  "
      ]
     },
     "execution_count": 503,
     "metadata": {},
     "output_type": "execute_result"
    }
   ],
   "source": [
    "df_arch_clean.head()"
   ]
  },
  {
   "cell_type": "code",
   "execution_count": 504,
   "metadata": {},
   "outputs": [
    {
     "name": "stdout",
     "output_type": "stream",
     "text": [
      "<class 'pandas.core.frame.DataFrame'>\n",
      "RangeIndex: 2356 entries, 0 to 2355\n",
      "Data columns (total 12 columns):\n",
      "tweet_id              2356 non-null int64\n",
      "timestamp             2356 non-null object\n",
      "source                2356 non-null object\n",
      "text                  2356 non-null object\n",
      "expanded_urls         2297 non-null object\n",
      "rating_numerator      2356 non-null int64\n",
      "rating_denominator    2356 non-null int64\n",
      "name                  2356 non-null object\n",
      "doggo                 2356 non-null object\n",
      "floofer               2356 non-null object\n",
      "pupper                2356 non-null object\n",
      "puppo                 2356 non-null object\n",
      "dtypes: int64(3), object(9)\n",
      "memory usage: 221.0+ KB\n"
     ]
    }
   ],
   "source": [
    "df_arch_clean.info()"
   ]
  },
  {
   "cell_type": "markdown",
   "metadata": {},
   "source": [
    "### Define\n",
    "  Remove HTML portion from 'source' column"
   ]
  },
  {
   "cell_type": "code",
   "execution_count": 505,
   "metadata": {},
   "outputs": [
    {
     "data": {
      "text/plain": [
       "<a href=\"http://twitter.com/download/iphone\" rel=\"nofollow\">Twitter for iPhone</a>     2221\n",
       "<a href=\"http://vine.co\" rel=\"nofollow\">Vine - Make a Scene</a>                          91\n",
       "<a href=\"http://twitter.com\" rel=\"nofollow\">Twitter Web Client</a>                       33\n",
       "<a href=\"https://about.twitter.com/products/tweetdeck\" rel=\"nofollow\">TweetDeck</a>      11\n",
       "Name: source, dtype: int64"
      ]
     },
     "execution_count": 505,
     "metadata": {},
     "output_type": "execute_result"
    }
   ],
   "source": [
    "#Gather unique source values and also a chance to peek at the full value \n",
    "#in the column\n",
    "df_arch_clean.source.value_counts()"
   ]
  },
  {
   "cell_type": "code",
   "execution_count": 506,
   "metadata": {},
   "outputs": [],
   "source": [
    "#Retain only the text value removing the anchor tags for each unique value\n",
    "df_arch_clean.source = df_arch_clean['source'].str.replace(\n",
    "    '<a href=\"http://twitter.com/download/iphone\" rel=\"nofollow\">Twitter for iPhone</a>', 'Twitter for iPhone')\n",
    "df_arch_clean.source = df_arch_clean['source'].str.replace(\n",
    "    '<a href=\"http://vine.co\" rel=\"nofollow\">Vine - Make a Scene</a>', 'Vine - Make a Scene')\n",
    "df_arch_clean.source = df_arch_clean['source'].str.replace(\n",
    "    '<a href=\"http://twitter.com\" rel=\"nofollow\">Twitter Web Client</a>', 'Twitter Web Client')\n",
    "df_arch_clean.source = df_arch_clean['source'].str.replace(\n",
    "    '<a href=\"https://about.twitter.com/products/tweetdeck\" rel=\"nofollow\">TweetDeck</a>', 'TweetDeck')"
   ]
  },
  {
   "cell_type": "code",
   "execution_count": 507,
   "metadata": {},
   "outputs": [
    {
     "data": {
      "text/plain": [
       "Twitter for iPhone     2221\n",
       "Vine - Make a Scene      91\n",
       "Twitter Web Client       33\n",
       "TweetDeck                11\n",
       "Name: source, dtype: int64"
      ]
     },
     "execution_count": 507,
     "metadata": {},
     "output_type": "execute_result"
    }
   ],
   "source": [
    "#Verify source column is cleaned up (i.e., not HTML tags)\n",
    "df_arch_clean.source.value_counts()"
   ]
  },
  {
   "cell_type": "markdown",
   "metadata": {},
   "source": [
    "### Define\n",
    "Drop the records with No corresponding images (i.e., expanded url is null)"
   ]
  },
  {
   "cell_type": "code",
   "execution_count": 508,
   "metadata": {},
   "outputs": [
    {
     "data": {
      "text/plain": [
       "59"
      ]
     },
     "execution_count": 508,
     "metadata": {},
     "output_type": "execute_result"
    }
   ],
   "source": [
    "df_arch_clean.expanded_urls.isnull().sum()"
   ]
  },
  {
   "cell_type": "code",
   "execution_count": 509,
   "metadata": {},
   "outputs": [],
   "source": [
    "#Retain only those rows that have value in expanded_urls column\n",
    "df_arch_clean = df_arch_clean[df_arch_clean['expanded_urls'].notnull()]"
   ]
  },
  {
   "cell_type": "code",
   "execution_count": 510,
   "metadata": {},
   "outputs": [
    {
     "data": {
      "text/plain": [
       "0"
      ]
     },
     "execution_count": 510,
     "metadata": {},
     "output_type": "execute_result"
    }
   ],
   "source": [
    "#Rows with no value for expanded_columns should have dropped\n",
    "df_arch_clean.expanded_urls.isna().sum()"
   ]
  },
  {
   "cell_type": "markdown",
   "metadata": {},
   "source": [
    "### Define\n",
    "Clean-up the name column in twitter archive"
   ]
  },
  {
   "cell_type": "code",
   "execution_count": 511,
   "metadata": {},
   "outputs": [],
   "source": [
    "# Use a regular expression to find name entries that are uppercase\n",
    "df_arch_clean['name'] = df_arch_clean.name.str.extract('\\\\b([A-Z]\\\\S*)\\\\b')"
   ]
  },
  {
   "cell_type": "code",
   "execution_count": 512,
   "metadata": {},
   "outputs": [],
   "source": [
    "# Drop any remaining rows that contain None in the name column\n",
    "df_arch_clean = df_arch_clean[df_arch_clean.name != 'None']"
   ]
  },
  {
   "cell_type": "code",
   "execution_count": 513,
   "metadata": {},
   "outputs": [],
   "source": [
    "# Drop any remaining rows that contain NaN in the name column\n",
    "df_arch_clean.dropna(subset=['name'], inplace=True)"
   ]
  },
  {
   "cell_type": "code",
   "execution_count": 514,
   "metadata": {},
   "outputs": [
    {
     "data": {
      "text/plain": [
       "0"
      ]
     },
     "execution_count": 514,
     "metadata": {},
     "output_type": "execute_result"
    }
   ],
   "source": [
    "df_arch_clean.name.isna().sum()"
   ]
  },
  {
   "cell_type": "code",
   "execution_count": 515,
   "metadata": {},
   "outputs": [
    {
     "data": {
      "text/plain": [
       "Charlie     12\n",
       "Lucy        11\n",
       "Oliver      11\n",
       "Cooper      11\n",
       "Lola        10\n",
       "Penny       10\n",
       "Tucker      10\n",
       "Bo           9\n",
       "Winston      9\n",
       "Sadie        8\n",
       "Daisy        7\n",
       "Toby         7\n",
       "Buddy        7\n",
       "Bailey       7\n",
       "Jax          6\n",
       "Koda         6\n",
       "Dave         6\n",
       "Stanley      6\n",
       "Bella        6\n",
       "Oscar        6\n",
       "Leo          6\n",
       "Scout        6\n",
       "Jack         6\n",
       "Milo         6\n",
       "Rusty        6\n",
       "Bentley      5\n",
       "Gus          5\n",
       "George       5\n",
       "Phil         5\n",
       "Sammy        5\n",
       "            ..\n",
       "Marty        1\n",
       "Nida         1\n",
       "Tripp        1\n",
       "Gustaf       1\n",
       "Rinna        1\n",
       "Crouton      1\n",
       "Ozzie        1\n",
       "Vince        1\n",
       "Lulu         1\n",
       "Taco         1\n",
       "Julius       1\n",
       "Karl         1\n",
       "Link         1\n",
       "Severus      1\n",
       "Ronnie       1\n",
       "Rolf         1\n",
       "Horace       1\n",
       "Dex          1\n",
       "Mo           1\n",
       "Shelby       1\n",
       "Julio        1\n",
       "Saydee       1\n",
       "Juckson      1\n",
       "Ulysses      1\n",
       "Beckham      1\n",
       "Rufio        1\n",
       "Flurpson     1\n",
       "Cuddles      1\n",
       "Edd          1\n",
       "Gin          1\n",
       "Name: name, Length: 931, dtype: int64"
      ]
     },
     "execution_count": 515,
     "metadata": {},
     "output_type": "execute_result"
    }
   ],
   "source": [
    "df_arch_clean.name.value_counts()"
   ]
  },
  {
   "cell_type": "code",
   "execution_count": 516,
   "metadata": {},
   "outputs": [],
   "source": [
    "#extract short urls to a new column\n",
    "df_arch_clean['tiny_url'] = df_arch_clean['text'].apply(lambda x : x.split()[-1])\n",
    "df_arch_clean['text'] = df_arch_clean['text'].apply(lambda x: x[:-len(x.split()[-1])])"
   ]
  },
  {
   "cell_type": "markdown",
   "metadata": {},
   "source": [
    "### Define\n",
    "combine doggo, floofer, pupper and puppo columns into one column and drop the individual columns"
   ]
  },
  {
   "cell_type": "code",
   "execution_count": 517,
   "metadata": {},
   "outputs": [],
   "source": [
    "df_arch_clean.loc[df_arch_clean['doggo'] == 'doggo', 'dog_class'] = 'doggo'\n",
    "df_arch_clean.loc[df_arch_clean['floofer'] == 'floofer', 'dog_class'] = 'floofer'\n",
    "df_arch_clean.loc[df_arch_clean['pupper'] == 'pupper', 'dog_class'] = 'pupper'\n",
    "df_arch_clean.loc[df_arch_clean['puppo'] == 'puppo', 'dog_class'] = 'puppo'"
   ]
  },
  {
   "cell_type": "code",
   "execution_count": 518,
   "metadata": {},
   "outputs": [
    {
     "data": {
      "text/html": [
       "<div>\n",
       "<style scoped>\n",
       "    .dataframe tbody tr th:only-of-type {\n",
       "        vertical-align: middle;\n",
       "    }\n",
       "\n",
       "    .dataframe tbody tr th {\n",
       "        vertical-align: top;\n",
       "    }\n",
       "\n",
       "    .dataframe thead th {\n",
       "        text-align: right;\n",
       "    }\n",
       "</style>\n",
       "<table border=\"1\" class=\"dataframe\">\n",
       "  <thead>\n",
       "    <tr style=\"text-align: right;\">\n",
       "      <th></th>\n",
       "      <th>tweet_id</th>\n",
       "      <th>timestamp</th>\n",
       "      <th>source</th>\n",
       "      <th>text</th>\n",
       "      <th>expanded_urls</th>\n",
       "      <th>rating_numerator</th>\n",
       "      <th>rating_denominator</th>\n",
       "      <th>name</th>\n",
       "      <th>doggo</th>\n",
       "      <th>floofer</th>\n",
       "      <th>pupper</th>\n",
       "      <th>puppo</th>\n",
       "      <th>tiny_url</th>\n",
       "      <th>dog_class</th>\n",
       "    </tr>\n",
       "  </thead>\n",
       "  <tbody>\n",
       "    <tr>\n",
       "      <th>1911</th>\n",
       "      <td>674410619106390016</td>\n",
       "      <td>2015-12-09 02:09:56 +0000</td>\n",
       "      <td>Twitter for iPhone</td>\n",
       "      <td>This is Lenny. He wants to be a sprinkler. 10/...</td>\n",
       "      <td>https://twitter.com/dog_rates/status/674410619...</td>\n",
       "      <td>10</td>\n",
       "      <td>10</td>\n",
       "      <td>Lenny</td>\n",
       "      <td>None</td>\n",
       "      <td>None</td>\n",
       "      <td>None</td>\n",
       "      <td>None</td>\n",
       "      <td>https://t.co/CZ0YaB40Hn</td>\n",
       "      <td>NaN</td>\n",
       "    </tr>\n",
       "    <tr>\n",
       "      <th>516</th>\n",
       "      <td>810984652412424192</td>\n",
       "      <td>2016-12-19 23:06:23 +0000</td>\n",
       "      <td>Twitter for iPhone</td>\n",
       "      <td>Meet Sam. She smiles 24/7 &amp;amp; secretly aspir...</td>\n",
       "      <td>https://www.gofundme.com/sams-smile,https://tw...</td>\n",
       "      <td>24</td>\n",
       "      <td>7</td>\n",
       "      <td>Sam</td>\n",
       "      <td>None</td>\n",
       "      <td>None</td>\n",
       "      <td>None</td>\n",
       "      <td>None</td>\n",
       "      <td>https://t.co/LouL5vdvxx</td>\n",
       "      <td>NaN</td>\n",
       "    </tr>\n",
       "    <tr>\n",
       "      <th>2291</th>\n",
       "      <td>667165590075940865</td>\n",
       "      <td>2015-11-19 02:20:46 +0000</td>\n",
       "      <td>Twitter for iPhone</td>\n",
       "      <td>This is Churlie. AKA Fetty Woof. Lost eye savi...</td>\n",
       "      <td>https://twitter.com/dog_rates/status/667165590...</td>\n",
       "      <td>10</td>\n",
       "      <td>10</td>\n",
       "      <td>Churlie</td>\n",
       "      <td>None</td>\n",
       "      <td>None</td>\n",
       "      <td>None</td>\n",
       "      <td>None</td>\n",
       "      <td>https://t.co/li2XYBVuAY</td>\n",
       "      <td>NaN</td>\n",
       "    </tr>\n",
       "    <tr>\n",
       "      <th>1967</th>\n",
       "      <td>673342308415348736</td>\n",
       "      <td>2015-12-06 03:24:51 +0000</td>\n",
       "      <td>Twitter for iPhone</td>\n",
       "      <td>This is Django. He's a skilled assassin pupper...</td>\n",
       "      <td>https://twitter.com/dog_rates/status/673342308...</td>\n",
       "      <td>10</td>\n",
       "      <td>10</td>\n",
       "      <td>Django</td>\n",
       "      <td>None</td>\n",
       "      <td>None</td>\n",
       "      <td>pupper</td>\n",
       "      <td>None</td>\n",
       "      <td>https://t.co/w0YTuiRd1a</td>\n",
       "      <td>pupper</td>\n",
       "    </tr>\n",
       "    <tr>\n",
       "      <th>1954</th>\n",
       "      <td>673656262056419329</td>\n",
       "      <td>2015-12-07 00:12:23 +0000</td>\n",
       "      <td>Twitter for iPhone</td>\n",
       "      <td>This is Albert AKA King Banana Peel. He's a ki...</td>\n",
       "      <td>https://twitter.com/dog_rates/status/673656262...</td>\n",
       "      <td>10</td>\n",
       "      <td>10</td>\n",
       "      <td>Albert</td>\n",
       "      <td>None</td>\n",
       "      <td>None</td>\n",
       "      <td>pupper</td>\n",
       "      <td>None</td>\n",
       "      <td>https://t.co/PN8hxgZ9We</td>\n",
       "      <td>pupper</td>\n",
       "    </tr>\n",
       "    <tr>\n",
       "      <th>38</th>\n",
       "      <td>884925521741709313</td>\n",
       "      <td>2017-07-12 00:01:00 +0000</td>\n",
       "      <td>Twitter for iPhone</td>\n",
       "      <td>This is Earl. He found a hat. Nervous about wh...</td>\n",
       "      <td>https://twitter.com/dog_rates/status/884925521...</td>\n",
       "      <td>12</td>\n",
       "      <td>10</td>\n",
       "      <td>Earl</td>\n",
       "      <td>None</td>\n",
       "      <td>None</td>\n",
       "      <td>None</td>\n",
       "      <td>None</td>\n",
       "      <td>https://t.co/MYJvdlNRVa</td>\n",
       "      <td>NaN</td>\n",
       "    </tr>\n",
       "    <tr>\n",
       "      <th>284</th>\n",
       "      <td>838921590096166913</td>\n",
       "      <td>2017-03-07 01:17:48 +0000</td>\n",
       "      <td>Twitter for iPhone</td>\n",
       "      <td>This is Arlo. He's officially the king of snow...</td>\n",
       "      <td>https://twitter.com/dog_rates/status/838921590...</td>\n",
       "      <td>13</td>\n",
       "      <td>10</td>\n",
       "      <td>Arlo</td>\n",
       "      <td>None</td>\n",
       "      <td>None</td>\n",
       "      <td>None</td>\n",
       "      <td>None</td>\n",
       "      <td>https://t.co/oXVu9pNZZv</td>\n",
       "      <td>NaN</td>\n",
       "    </tr>\n",
       "    <tr>\n",
       "      <th>1073</th>\n",
       "      <td>739932936087216128</td>\n",
       "      <td>2016-06-06 21:32:13 +0000</td>\n",
       "      <td>Twitter for iPhone</td>\n",
       "      <td>Say hello to Rorie. She's zen af. Just enjoyin...</td>\n",
       "      <td>https://twitter.com/dog_rates/status/739932936...</td>\n",
       "      <td>10</td>\n",
       "      <td>10</td>\n",
       "      <td>Rorie</td>\n",
       "      <td>None</td>\n",
       "      <td>None</td>\n",
       "      <td>None</td>\n",
       "      <td>None</td>\n",
       "      <td>https://t.co/yctnFptdQ1</td>\n",
       "      <td>NaN</td>\n",
       "    </tr>\n",
       "    <tr>\n",
       "      <th>326</th>\n",
       "      <td>833826103416520705</td>\n",
       "      <td>2017-02-20 23:50:09 +0000</td>\n",
       "      <td>Twitter for iPhone</td>\n",
       "      <td>Meet Charlie. She asked u to change the channe...</td>\n",
       "      <td>https://twitter.com/dog_rates/status/833826103...</td>\n",
       "      <td>13</td>\n",
       "      <td>10</td>\n",
       "      <td>Charlie</td>\n",
       "      <td>None</td>\n",
       "      <td>None</td>\n",
       "      <td>None</td>\n",
       "      <td>None</td>\n",
       "      <td>https://t.co/WTzhtfevKY</td>\n",
       "      <td>NaN</td>\n",
       "    </tr>\n",
       "    <tr>\n",
       "      <th>970</th>\n",
       "      <td>750117059602808832</td>\n",
       "      <td>2016-07-05 00:00:18 +0000</td>\n",
       "      <td>Twitter for iPhone</td>\n",
       "      <td>This is Calvin. He just loves America so much....</td>\n",
       "      <td>https://twitter.com/dog_rates/status/750117059...</td>\n",
       "      <td>10</td>\n",
       "      <td>10</td>\n",
       "      <td>Calvin</td>\n",
       "      <td>None</td>\n",
       "      <td>None</td>\n",
       "      <td>None</td>\n",
       "      <td>None</td>\n",
       "      <td>https://t.co/RXdzWaCQHm</td>\n",
       "      <td>NaN</td>\n",
       "    </tr>\n",
       "  </tbody>\n",
       "</table>\n",
       "</div>"
      ],
      "text/plain": [
       "                tweet_id                  timestamp              source  \\\n",
       "1911  674410619106390016  2015-12-09 02:09:56 +0000  Twitter for iPhone   \n",
       "516   810984652412424192  2016-12-19 23:06:23 +0000  Twitter for iPhone   \n",
       "2291  667165590075940865  2015-11-19 02:20:46 +0000  Twitter for iPhone   \n",
       "1967  673342308415348736  2015-12-06 03:24:51 +0000  Twitter for iPhone   \n",
       "1954  673656262056419329  2015-12-07 00:12:23 +0000  Twitter for iPhone   \n",
       "38    884925521741709313  2017-07-12 00:01:00 +0000  Twitter for iPhone   \n",
       "284   838921590096166913  2017-03-07 01:17:48 +0000  Twitter for iPhone   \n",
       "1073  739932936087216128  2016-06-06 21:32:13 +0000  Twitter for iPhone   \n",
       "326   833826103416520705  2017-02-20 23:50:09 +0000  Twitter for iPhone   \n",
       "970   750117059602808832  2016-07-05 00:00:18 +0000  Twitter for iPhone   \n",
       "\n",
       "                                                   text  \\\n",
       "1911  This is Lenny. He wants to be a sprinkler. 10/...   \n",
       "516   Meet Sam. She smiles 24/7 &amp; secretly aspir...   \n",
       "2291  This is Churlie. AKA Fetty Woof. Lost eye savi...   \n",
       "1967  This is Django. He's a skilled assassin pupper...   \n",
       "1954  This is Albert AKA King Banana Peel. He's a ki...   \n",
       "38    This is Earl. He found a hat. Nervous about wh...   \n",
       "284   This is Arlo. He's officially the king of snow...   \n",
       "1073  Say hello to Rorie. She's zen af. Just enjoyin...   \n",
       "326   Meet Charlie. She asked u to change the channe...   \n",
       "970   This is Calvin. He just loves America so much....   \n",
       "\n",
       "                                          expanded_urls  rating_numerator  \\\n",
       "1911  https://twitter.com/dog_rates/status/674410619...                10   \n",
       "516   https://www.gofundme.com/sams-smile,https://tw...                24   \n",
       "2291  https://twitter.com/dog_rates/status/667165590...                10   \n",
       "1967  https://twitter.com/dog_rates/status/673342308...                10   \n",
       "1954  https://twitter.com/dog_rates/status/673656262...                10   \n",
       "38    https://twitter.com/dog_rates/status/884925521...                12   \n",
       "284   https://twitter.com/dog_rates/status/838921590...                13   \n",
       "1073  https://twitter.com/dog_rates/status/739932936...                10   \n",
       "326   https://twitter.com/dog_rates/status/833826103...                13   \n",
       "970   https://twitter.com/dog_rates/status/750117059...                10   \n",
       "\n",
       "      rating_denominator     name doggo floofer  pupper puppo  \\\n",
       "1911                  10    Lenny  None    None    None  None   \n",
       "516                    7      Sam  None    None    None  None   \n",
       "2291                  10  Churlie  None    None    None  None   \n",
       "1967                  10   Django  None    None  pupper  None   \n",
       "1954                  10   Albert  None    None  pupper  None   \n",
       "38                    10     Earl  None    None    None  None   \n",
       "284                   10     Arlo  None    None    None  None   \n",
       "1073                  10    Rorie  None    None    None  None   \n",
       "326                   10  Charlie  None    None    None  None   \n",
       "970                   10   Calvin  None    None    None  None   \n",
       "\n",
       "                     tiny_url dog_class  \n",
       "1911  https://t.co/CZ0YaB40Hn       NaN  \n",
       "516   https://t.co/LouL5vdvxx       NaN  \n",
       "2291  https://t.co/li2XYBVuAY       NaN  \n",
       "1967  https://t.co/w0YTuiRd1a    pupper  \n",
       "1954  https://t.co/PN8hxgZ9We    pupper  \n",
       "38    https://t.co/MYJvdlNRVa       NaN  \n",
       "284   https://t.co/oXVu9pNZZv       NaN  \n",
       "1073  https://t.co/yctnFptdQ1       NaN  \n",
       "326   https://t.co/WTzhtfevKY       NaN  \n",
       "970   https://t.co/RXdzWaCQHm       NaN  "
      ]
     },
     "execution_count": 518,
     "metadata": {},
     "output_type": "execute_result"
    }
   ],
   "source": [
    "#display a sample of 10-rows after combining the types into one column\n",
    "df_arch_clean.sample(10)"
   ]
  },
  {
   "cell_type": "code",
   "execution_count": 519,
   "metadata": {},
   "outputs": [],
   "source": [
    "#drop the dog classification columns (i.e., doggo, floofer, pupper and puppo)\n",
    "df_arch_clean.drop(['doggo', 'floofer', 'pupper', 'puppo'], axis = 1, inplace = True)"
   ]
  },
  {
   "cell_type": "code",
   "execution_count": 520,
   "metadata": {},
   "outputs": [
    {
     "name": "stdout",
     "output_type": "stream",
     "text": [
      "<class 'pandas.core.frame.DataFrame'>\n",
      "Int64Index: 1502 entries, 0 to 2325\n",
      "Data columns (total 10 columns):\n",
      "tweet_id              1502 non-null int64\n",
      "timestamp             1502 non-null object\n",
      "source                1502 non-null object\n",
      "text                  1502 non-null object\n",
      "expanded_urls         1502 non-null object\n",
      "rating_numerator      1502 non-null int64\n",
      "rating_denominator    1502 non-null int64\n",
      "name                  1502 non-null object\n",
      "tiny_url              1502 non-null object\n",
      "dog_class             204 non-null object\n",
      "dtypes: int64(3), object(7)\n",
      "memory usage: 129.1+ KB\n"
     ]
    }
   ],
   "source": [
    "#verify that the columns are dropped\n",
    "df_arch_clean.info()"
   ]
  },
  {
   "cell_type": "markdown",
   "metadata": {},
   "source": [
    "### Clean-up of  images "
   ]
  },
  {
   "cell_type": "markdown",
   "metadata": {},
   "source": [
    "#### Define\n",
    "Consider only that data which have a confidence level of > 0.5 for p1_conf field"
   ]
  },
  {
   "cell_type": "code",
   "execution_count": 521,
   "metadata": {},
   "outputs": [],
   "source": [
    "#Make a copy of predictions dataframe for clean\n",
    "df_img_clean = df_predictions.copy()"
   ]
  },
  {
   "cell_type": "code",
   "execution_count": 522,
   "metadata": {},
   "outputs": [],
   "source": [
    "#Retain only that data whose propbabily p1_dog breed type is True (i.g., p1_dog == True)\n",
    "# and the corresponding confidence level is > 0.5\n",
    "df_img_clean = df_img_clean[(df_img_clean.p1_conf > 0.5) & \n",
    "                             (df_img_clean.p1_dog == True)]"
   ]
  },
  {
   "cell_type": "code",
   "execution_count": 523,
   "metadata": {},
   "outputs": [
    {
     "data": {
      "text/plain": [
       "0"
      ]
     },
     "execution_count": 523,
     "metadata": {},
     "output_type": "execute_result"
    }
   ],
   "source": [
    "# Verify data is cleaned-up - should return zero rows\n",
    "df_img_clean[(df_img_clean.p1_dog == False) |\n",
    "             (df_img_clean.p1_conf <= 0.5)].shape[0]"
   ]
  },
  {
   "cell_type": "code",
   "execution_count": 524,
   "metadata": {},
   "outputs": [
    {
     "name": "stdout",
     "output_type": "stream",
     "text": [
      "<class 'pandas.core.frame.DataFrame'>\n",
      "Int64Index: 973 entries, 1 to 2072\n",
      "Data columns (total 12 columns):\n",
      "tweet_id    973 non-null int64\n",
      "jpg_url     973 non-null object\n",
      "img_num     973 non-null int64\n",
      "p1          973 non-null object\n",
      "p1_conf     973 non-null float64\n",
      "p1_dog      973 non-null bool\n",
      "p2          973 non-null object\n",
      "p2_conf     973 non-null float64\n",
      "p2_dog      973 non-null bool\n",
      "p3          973 non-null object\n",
      "p3_conf     973 non-null float64\n",
      "p3_dog      973 non-null bool\n",
      "dtypes: bool(3), float64(3), int64(2), object(4)\n",
      "memory usage: 78.9+ KB\n"
     ]
    }
   ],
   "source": [
    "df_img_clean.info()"
   ]
  },
  {
   "cell_type": "markdown",
   "metadata": {},
   "source": [
    "#### Define \n",
    "Clean-up rows with duplicate address for url"
   ]
  },
  {
   "cell_type": "code",
   "execution_count": 525,
   "metadata": {},
   "outputs": [],
   "source": [
    "#drop all those rows with duplicate address in jpg_url\n",
    "df_img_clean = df_img_clean.drop_duplicates(subset='jpg_url')"
   ]
  },
  {
   "cell_type": "code",
   "execution_count": 526,
   "metadata": {},
   "outputs": [
    {
     "data": {
      "text/plain": [
       "0"
      ]
     },
     "execution_count": 526,
     "metadata": {},
     "output_type": "execute_result"
    }
   ],
   "source": [
    "#verify there are not duplicate urls\n",
    "df_img_clean[df_img_clean.jpg_url.duplicated()].shape[0]"
   ]
  },
  {
   "cell_type": "markdown",
   "metadata": {},
   "source": [
    "#### Define\n",
    "Delete extraneous columns not used in determining the dog's breed. This directs us to delete p2, p2_conf, p3 and p3_conf columns"
   ]
  },
  {
   "cell_type": "code",
   "execution_count": 527,
   "metadata": {},
   "outputs": [],
   "source": [
    "#use 'filter' to demonstrate its use instead of 'drop'ping the columns\n",
    "df_img_clean = df_img_clean.filter(items=['tweet_id', 'p1', 'p1_conf', 'jpg_url'])"
   ]
  },
  {
   "cell_type": "code",
   "execution_count": 528,
   "metadata": {},
   "outputs": [
    {
     "name": "stdout",
     "output_type": "stream",
     "text": [
      "<class 'pandas.core.frame.DataFrame'>\n",
      "Int64Index: 938 entries, 1 to 2072\n",
      "Data columns (total 4 columns):\n",
      "tweet_id    938 non-null int64\n",
      "p1          938 non-null object\n",
      "p1_conf     938 non-null float64\n",
      "jpg_url     938 non-null object\n",
      "dtypes: float64(1), int64(1), object(2)\n",
      "memory usage: 36.6+ KB\n"
     ]
    }
   ],
   "source": [
    "#Verify image data frame has only concerned columns\n",
    "df_img_clean.info()"
   ]
  },
  {
   "cell_type": "markdown",
   "metadata": {},
   "source": [
    "## Clean tweet_json\n"
   ]
  },
  {
   "cell_type": "markdown",
   "metadata": {},
   "source": [
    "### Define\n",
    "* Remove re-tweets"
   ]
  },
  {
   "cell_type": "code",
   "execution_count": 529,
   "metadata": {},
   "outputs": [],
   "source": [
    "#Make a copy of df_tweet_info dataframe for cleaning\n",
    "df_tweet_clean = df_tweet_info.copy()"
   ]
  },
  {
   "cell_type": "code",
   "execution_count": 530,
   "metadata": {},
   "outputs": [
    {
     "name": "stdout",
     "output_type": "stream",
     "text": [
      "<class 'pandas.core.frame.DataFrame'>\n",
      "RangeIndex: 2331 entries, 0 to 2330\n",
      "Data columns (total 5 columns):\n",
      "favorite_count    2331 non-null int64\n",
      "retweet_count     2331 non-null int64\n",
      "source_tweet      2331 non-null object\n",
      "tweet_id          2331 non-null int64\n",
      "user              2331 non-null object\n",
      "dtypes: int64(3), object(2)\n",
      "memory usage: 91.1+ KB\n"
     ]
    }
   ],
   "source": [
    "df_tweet_clean.info()"
   ]
  },
  {
   "cell_type": "code",
   "execution_count": 531,
   "metadata": {},
   "outputs": [
    {
     "data": {
      "text/html": [
       "<div>\n",
       "<style scoped>\n",
       "    .dataframe tbody tr th:only-of-type {\n",
       "        vertical-align: middle;\n",
       "    }\n",
       "\n",
       "    .dataframe tbody tr th {\n",
       "        vertical-align: top;\n",
       "    }\n",
       "\n",
       "    .dataframe thead th {\n",
       "        text-align: right;\n",
       "    }\n",
       "</style>\n",
       "<table border=\"1\" class=\"dataframe\">\n",
       "  <thead>\n",
       "    <tr style=\"text-align: right;\">\n",
       "      <th></th>\n",
       "      <th>favorite_count</th>\n",
       "      <th>retweet_count</th>\n",
       "      <th>source_tweet</th>\n",
       "      <th>tweet_id</th>\n",
       "      <th>user</th>\n",
       "    </tr>\n",
       "  </thead>\n",
       "  <tbody>\n",
       "    <tr>\n",
       "      <th>0</th>\n",
       "      <td>34734</td>\n",
       "      <td>7265</td>\n",
       "      <td>&lt;a href=\"http://twitter.com/download/iphone\" r...</td>\n",
       "      <td>892420643555336193</td>\n",
       "      <td>{'id': 4196983835, 'id_str': '4196983835', 'na...</td>\n",
       "    </tr>\n",
       "    <tr>\n",
       "      <th>1</th>\n",
       "      <td>30100</td>\n",
       "      <td>5437</td>\n",
       "      <td>&lt;a href=\"http://twitter.com/download/iphone\" r...</td>\n",
       "      <td>892177421306343426</td>\n",
       "      <td>{'id': 4196983835, 'id_str': '4196983835', 'na...</td>\n",
       "    </tr>\n",
       "    <tr>\n",
       "      <th>2</th>\n",
       "      <td>22653</td>\n",
       "      <td>3584</td>\n",
       "      <td>&lt;a href=\"http://twitter.com/download/iphone\" r...</td>\n",
       "      <td>891815181378084864</td>\n",
       "      <td>{'id': 4196983835, 'id_str': '4196983835', 'na...</td>\n",
       "    </tr>\n",
       "    <tr>\n",
       "      <th>3</th>\n",
       "      <td>38012</td>\n",
       "      <td>7468</td>\n",
       "      <td>&lt;a href=\"http://twitter.com/download/iphone\" r...</td>\n",
       "      <td>891689557279858688</td>\n",
       "      <td>{'id': 4196983835, 'id_str': '4196983835', 'na...</td>\n",
       "    </tr>\n",
       "    <tr>\n",
       "      <th>4</th>\n",
       "      <td>36288</td>\n",
       "      <td>8021</td>\n",
       "      <td>&lt;a href=\"http://twitter.com/download/iphone\" r...</td>\n",
       "      <td>891327558926688256</td>\n",
       "      <td>{'id': 4196983835, 'id_str': '4196983835', 'na...</td>\n",
       "    </tr>\n",
       "  </tbody>\n",
       "</table>\n",
       "</div>"
      ],
      "text/plain": [
       "   favorite_count  retweet_count  \\\n",
       "0           34734           7265   \n",
       "1           30100           5437   \n",
       "2           22653           3584   \n",
       "3           38012           7468   \n",
       "4           36288           8021   \n",
       "\n",
       "                                        source_tweet            tweet_id  \\\n",
       "0  <a href=\"http://twitter.com/download/iphone\" r...  892420643555336193   \n",
       "1  <a href=\"http://twitter.com/download/iphone\" r...  892177421306343426   \n",
       "2  <a href=\"http://twitter.com/download/iphone\" r...  891815181378084864   \n",
       "3  <a href=\"http://twitter.com/download/iphone\" r...  891689557279858688   \n",
       "4  <a href=\"http://twitter.com/download/iphone\" r...  891327558926688256   \n",
       "\n",
       "                                                user  \n",
       "0  {'id': 4196983835, 'id_str': '4196983835', 'na...  \n",
       "1  {'id': 4196983835, 'id_str': '4196983835', 'na...  \n",
       "2  {'id': 4196983835, 'id_str': '4196983835', 'na...  \n",
       "3  {'id': 4196983835, 'id_str': '4196983835', 'na...  \n",
       "4  {'id': 4196983835, 'id_str': '4196983835', 'na...  "
      ]
     },
     "execution_count": 531,
     "metadata": {},
     "output_type": "execute_result"
    }
   ],
   "source": [
    "df_tweet_clean.head()"
   ]
  },
  {
   "cell_type": "markdown",
   "metadata": {},
   "source": [
    "### Define\n",
    "* Clean source tweet by removing the HTML tags"
   ]
  },
  {
   "cell_type": "code",
   "execution_count": 532,
   "metadata": {},
   "outputs": [
    {
     "data": {
      "text/plain": [
       "<a href=\"http://twitter.com/download/iphone\" rel=\"nofollow\">Twitter for iPhone</a>     2197\n",
       "<a href=\"http://vine.co\" rel=\"nofollow\">Vine - Make a Scene</a>                          91\n",
       "<a href=\"http://twitter.com\" rel=\"nofollow\">Twitter Web Client</a>                       33\n",
       "<a href=\"https://about.twitter.com/products/tweetdeck\" rel=\"nofollow\">TweetDeck</a>      10\n",
       "Name: source_tweet, dtype: int64"
      ]
     },
     "execution_count": 532,
     "metadata": {},
     "output_type": "execute_result"
    }
   ],
   "source": [
    "df_tweet_clean.source_tweet.value_counts()"
   ]
  },
  {
   "cell_type": "code",
   "execution_count": 533,
   "metadata": {},
   "outputs": [],
   "source": [
    "#Retain only the text value removing the anchor tags for each unique value\n",
    "df_tweet_clean.source_tweet = df_tweet_clean['source_tweet'].str.replace(\n",
    "    '<a href=\"http://twitter.com/download/iphone\" rel=\"nofollow\">Twitter for iPhone</a>', 'Twitter for iPhone')\n",
    "df_tweet_clean.source_tweet = df_tweet_clean['source_tweet'].str.replace(\n",
    "    '<a href=\"http://vine.co\" rel=\"nofollow\">Vine - Make a Scene</a>', 'Vine - Make a Scene')\n",
    "df_tweet_clean.source_tweet = df_tweet_clean['source_tweet'].str.replace(\n",
    "    '<a href=\"http://twitter.com\" rel=\"nofollow\">Twitter Web Client</a>', 'Twitter Web Client')\n",
    "df_tweet_clean.source_tweet = df_tweet_clean['source_tweet'].str.replace(\n",
    "    '<a href=\"https://about.twitter.com/products/tweetdeck\" rel=\"nofollow\">TweetDeck</a>', 'TweetDeck')"
   ]
  },
  {
   "cell_type": "code",
   "execution_count": 534,
   "metadata": {},
   "outputs": [
    {
     "data": {
      "text/plain": [
       "array(['Twitter for iPhone', 'Twitter Web Client', 'Vine - Make a Scene',\n",
       "       'TweetDeck'], dtype=object)"
      ]
     },
     "execution_count": 534,
     "metadata": {},
     "output_type": "execute_result"
    }
   ],
   "source": [
    "#Verify that the value is cleaned up\n",
    "df_tweet_clean.source_tweet.unique()"
   ]
  },
  {
   "cell_type": "markdown",
   "metadata": {},
   "source": [
    "## Merge data "
   ]
  },
  {
   "cell_type": "code",
   "execution_count": 535,
   "metadata": {},
   "outputs": [
    {
     "name": "stdout",
     "output_type": "stream",
     "text": [
      "<class 'pandas.core.frame.DataFrame'>\n",
      "Int64Index: 1502 entries, 0 to 2325\n",
      "Data columns (total 10 columns):\n",
      "tweet_id              1502 non-null int64\n",
      "timestamp             1502 non-null object\n",
      "source                1502 non-null object\n",
      "text                  1502 non-null object\n",
      "expanded_urls         1502 non-null object\n",
      "rating_numerator      1502 non-null int64\n",
      "rating_denominator    1502 non-null int64\n",
      "name                  1502 non-null object\n",
      "tiny_url              1502 non-null object\n",
      "dog_class             204 non-null object\n",
      "dtypes: int64(3), object(7)\n",
      "memory usage: 129.1+ KB\n"
     ]
    }
   ],
   "source": [
    "df_arch_clean.info()"
   ]
  },
  {
   "cell_type": "code",
   "execution_count": 536,
   "metadata": {},
   "outputs": [
    {
     "name": "stdout",
     "output_type": "stream",
     "text": [
      "<class 'pandas.core.frame.DataFrame'>\n",
      "Int64Index: 938 entries, 1 to 2072\n",
      "Data columns (total 4 columns):\n",
      "tweet_id    938 non-null int64\n",
      "p1          938 non-null object\n",
      "p1_conf     938 non-null float64\n",
      "jpg_url     938 non-null object\n",
      "dtypes: float64(1), int64(1), object(2)\n",
      "memory usage: 36.6+ KB\n"
     ]
    }
   ],
   "source": [
    "df_img_clean.info()"
   ]
  },
  {
   "cell_type": "code",
   "execution_count": 537,
   "metadata": {},
   "outputs": [
    {
     "name": "stdout",
     "output_type": "stream",
     "text": [
      "<class 'pandas.core.frame.DataFrame'>\n",
      "RangeIndex: 2331 entries, 0 to 2330\n",
      "Data columns (total 5 columns):\n",
      "favorite_count    2331 non-null int64\n",
      "retweet_count     2331 non-null int64\n",
      "source_tweet      2331 non-null object\n",
      "tweet_id          2331 non-null int64\n",
      "user              2331 non-null object\n",
      "dtypes: int64(3), object(2)\n",
      "memory usage: 91.1+ KB\n"
     ]
    }
   ],
   "source": [
    "df_tweet_clean.info()"
   ]
  },
  {
   "cell_type": "code",
   "execution_count": 538,
   "metadata": {},
   "outputs": [],
   "source": [
    "# Convert data type of tweet_id in all tables to object string data type for merging\n",
    "df_arch_clean.tweet_id = df_arch_clean.tweet_id.astype(str)\n",
    "df_img_clean.tweet_id = df_img_clean.tweet_id.astype(str)\n",
    "df_tweet_clean.tweet_id = df_tweet_clean.tweet_id.astype(str)"
   ]
  },
  {
   "cell_type": "code",
   "execution_count": 539,
   "metadata": {},
   "outputs": [],
   "source": [
    "df_merged_tweets = pd.merge(df_arch_clean, df_img_clean, \n",
    "                             how = 'inner', on=['tweet_id'])"
   ]
  },
  {
   "cell_type": "code",
   "execution_count": 540,
   "metadata": {},
   "outputs": [],
   "source": [
    "df_merged_tweets = pd.merge(df_tweet_clean, df_merged_tweets, \n",
    "                          how = 'inner', on=['tweet_id'])"
   ]
  },
  {
   "cell_type": "code",
   "execution_count": 541,
   "metadata": {},
   "outputs": [
    {
     "data": {
      "text/html": [
       "<div>\n",
       "<style scoped>\n",
       "    .dataframe tbody tr th:only-of-type {\n",
       "        vertical-align: middle;\n",
       "    }\n",
       "\n",
       "    .dataframe tbody tr th {\n",
       "        vertical-align: top;\n",
       "    }\n",
       "\n",
       "    .dataframe thead th {\n",
       "        text-align: right;\n",
       "    }\n",
       "</style>\n",
       "<table border=\"1\" class=\"dataframe\">\n",
       "  <thead>\n",
       "    <tr style=\"text-align: right;\">\n",
       "      <th></th>\n",
       "      <th>favorite_count</th>\n",
       "      <th>retweet_count</th>\n",
       "      <th>source_tweet</th>\n",
       "      <th>tweet_id</th>\n",
       "      <th>user</th>\n",
       "      <th>timestamp</th>\n",
       "      <th>source</th>\n",
       "      <th>text</th>\n",
       "      <th>expanded_urls</th>\n",
       "      <th>rating_numerator</th>\n",
       "      <th>rating_denominator</th>\n",
       "      <th>name</th>\n",
       "      <th>tiny_url</th>\n",
       "      <th>dog_class</th>\n",
       "      <th>p1</th>\n",
       "      <th>p1_conf</th>\n",
       "      <th>jpg_url</th>\n",
       "    </tr>\n",
       "  </thead>\n",
       "  <tbody>\n",
       "    <tr>\n",
       "      <th>220</th>\n",
       "      <td>8916</td>\n",
       "      <td>2539</td>\n",
       "      <td>Twitter for iPhone</td>\n",
       "      <td>789268448748703744</td>\n",
       "      <td>{'id': 4196983835, 'id_str': '4196983835', 'na...</td>\n",
       "      <td>2016-10-21 00:53:56 +0000</td>\n",
       "      <td>Twitter for iPhone</td>\n",
       "      <td>This is Stella. She's happier than I will ever...</td>\n",
       "      <td>https://twitter.com/dog_rates/status/789268448...</td>\n",
       "      <td>10</td>\n",
       "      <td>10</td>\n",
       "      <td>Stella</td>\n",
       "      <td>https://t.co/JSs2bfDtTS</td>\n",
       "      <td>NaN</td>\n",
       "      <td>malamute</td>\n",
       "      <td>0.812860</td>\n",
       "      <td>https://pbs.twimg.com/media/CvQLdotWcAAZn86.jpg</td>\n",
       "    </tr>\n",
       "    <tr>\n",
       "      <th>464</th>\n",
       "      <td>2045</td>\n",
       "      <td>749</td>\n",
       "      <td>Twitter for iPhone</td>\n",
       "      <td>692158366030913536</td>\n",
       "      <td>{'id': 4196983835, 'id_str': '4196983835', 'na...</td>\n",
       "      <td>2016-01-27 01:33:08 +0000</td>\n",
       "      <td>Twitter for iPhone</td>\n",
       "      <td>This is Edgar. He's a Sassafras Puggleflash. N...</td>\n",
       "      <td>https://twitter.com/dog_rates/status/692158366...</td>\n",
       "      <td>10</td>\n",
       "      <td>10</td>\n",
       "      <td>Edgar</td>\n",
       "      <td>https://t.co/1NgMb9BTWB</td>\n",
       "      <td>NaN</td>\n",
       "      <td>pug</td>\n",
       "      <td>0.956565</td>\n",
       "      <td>https://pbs.twimg.com/media/CZsKVxfWQAAXy2u.jpg</td>\n",
       "    </tr>\n",
       "    <tr>\n",
       "      <th>263</th>\n",
       "      <td>10191</td>\n",
       "      <td>4846</td>\n",
       "      <td>Twitter for iPhone</td>\n",
       "      <td>771380798096281600</td>\n",
       "      <td>{'id': 4196983835, 'id_str': '4196983835', 'na...</td>\n",
       "      <td>2016-09-01 16:14:48 +0000</td>\n",
       "      <td>Twitter for iPhone</td>\n",
       "      <td>Meet Fizz. She thinks love is a social constru...</td>\n",
       "      <td>https://twitter.com/dog_rates/status/771380798...</td>\n",
       "      <td>11</td>\n",
       "      <td>10</td>\n",
       "      <td>Fizz</td>\n",
       "      <td>https://t.co/sPB5JMnWBn</td>\n",
       "      <td>NaN</td>\n",
       "      <td>collie</td>\n",
       "      <td>0.503728</td>\n",
       "      <td>https://pbs.twimg.com/media/CrR-vVfXEAAk6Gg.jpg</td>\n",
       "    </tr>\n",
       "    <tr>\n",
       "      <th>130</th>\n",
       "      <td>17850</td>\n",
       "      <td>4028</td>\n",
       "      <td>Twitter for iPhone</td>\n",
       "      <td>826476773533745153</td>\n",
       "      <td>{'id': 4196983835, 'id_str': '4196983835', 'na...</td>\n",
       "      <td>2017-01-31 17:06:32 +0000</td>\n",
       "      <td>Twitter for iPhone</td>\n",
       "      <td>This is Pilot. He has mastered the synchronize...</td>\n",
       "      <td>https://twitter.com/dog_rates/status/826476773...</td>\n",
       "      <td>12</td>\n",
       "      <td>10</td>\n",
       "      <td>Pilot</td>\n",
       "      <td>https://t.co/YIV8sw8xkh</td>\n",
       "      <td>doggo</td>\n",
       "      <td>German_shepherd</td>\n",
       "      <td>0.741860</td>\n",
       "      <td>https://pbs.twimg.com/media/C3g8M0lWIAEcFgn.jpg</td>\n",
       "    </tr>\n",
       "    <tr>\n",
       "      <th>23</th>\n",
       "      <td>25298</td>\n",
       "      <td>5248</td>\n",
       "      <td>Twitter for iPhone</td>\n",
       "      <td>882627270321602560</td>\n",
       "      <td>{'id': 4196983835, 'id_str': '4196983835', 'na...</td>\n",
       "      <td>2017-07-05 15:48:34 +0000</td>\n",
       "      <td>Twitter for iPhone</td>\n",
       "      <td>This is Stanley. He has his first swim lesson ...</td>\n",
       "      <td>https://twitter.com/dog_rates/status/882627270...</td>\n",
       "      <td>13</td>\n",
       "      <td>10</td>\n",
       "      <td>Stanley</td>\n",
       "      <td>https://t.co/Nx52PGwH94</td>\n",
       "      <td>NaN</td>\n",
       "      <td>Pembroke</td>\n",
       "      <td>0.542982</td>\n",
       "      <td>https://pbs.twimg.com/media/DD-40X3WAAAJPU5.jpg</td>\n",
       "    </tr>\n",
       "  </tbody>\n",
       "</table>\n",
       "</div>"
      ],
      "text/plain": [
       "     favorite_count  retweet_count        source_tweet            tweet_id  \\\n",
       "220            8916           2539  Twitter for iPhone  789268448748703744   \n",
       "464            2045            749  Twitter for iPhone  692158366030913536   \n",
       "263           10191           4846  Twitter for iPhone  771380798096281600   \n",
       "130           17850           4028  Twitter for iPhone  826476773533745153   \n",
       "23            25298           5248  Twitter for iPhone  882627270321602560   \n",
       "\n",
       "                                                  user  \\\n",
       "220  {'id': 4196983835, 'id_str': '4196983835', 'na...   \n",
       "464  {'id': 4196983835, 'id_str': '4196983835', 'na...   \n",
       "263  {'id': 4196983835, 'id_str': '4196983835', 'na...   \n",
       "130  {'id': 4196983835, 'id_str': '4196983835', 'na...   \n",
       "23   {'id': 4196983835, 'id_str': '4196983835', 'na...   \n",
       "\n",
       "                     timestamp              source  \\\n",
       "220  2016-10-21 00:53:56 +0000  Twitter for iPhone   \n",
       "464  2016-01-27 01:33:08 +0000  Twitter for iPhone   \n",
       "263  2016-09-01 16:14:48 +0000  Twitter for iPhone   \n",
       "130  2017-01-31 17:06:32 +0000  Twitter for iPhone   \n",
       "23   2017-07-05 15:48:34 +0000  Twitter for iPhone   \n",
       "\n",
       "                                                  text  \\\n",
       "220  This is Stella. She's happier than I will ever...   \n",
       "464  This is Edgar. He's a Sassafras Puggleflash. N...   \n",
       "263  Meet Fizz. She thinks love is a social constru...   \n",
       "130  This is Pilot. He has mastered the synchronize...   \n",
       "23   This is Stanley. He has his first swim lesson ...   \n",
       "\n",
       "                                         expanded_urls  rating_numerator  \\\n",
       "220  https://twitter.com/dog_rates/status/789268448...                10   \n",
       "464  https://twitter.com/dog_rates/status/692158366...                10   \n",
       "263  https://twitter.com/dog_rates/status/771380798...                11   \n",
       "130  https://twitter.com/dog_rates/status/826476773...                12   \n",
       "23   https://twitter.com/dog_rates/status/882627270...                13   \n",
       "\n",
       "     rating_denominator     name                 tiny_url dog_class  \\\n",
       "220                  10   Stella  https://t.co/JSs2bfDtTS       NaN   \n",
       "464                  10    Edgar  https://t.co/1NgMb9BTWB       NaN   \n",
       "263                  10     Fizz  https://t.co/sPB5JMnWBn       NaN   \n",
       "130                  10    Pilot  https://t.co/YIV8sw8xkh     doggo   \n",
       "23                   10  Stanley  https://t.co/Nx52PGwH94       NaN   \n",
       "\n",
       "                  p1   p1_conf  \\\n",
       "220         malamute  0.812860   \n",
       "464              pug  0.956565   \n",
       "263           collie  0.503728   \n",
       "130  German_shepherd  0.741860   \n",
       "23          Pembroke  0.542982   \n",
       "\n",
       "                                             jpg_url  \n",
       "220  https://pbs.twimg.com/media/CvQLdotWcAAZn86.jpg  \n",
       "464  https://pbs.twimg.com/media/CZsKVxfWQAAXy2u.jpg  \n",
       "263  https://pbs.twimg.com/media/CrR-vVfXEAAk6Gg.jpg  \n",
       "130  https://pbs.twimg.com/media/C3g8M0lWIAEcFgn.jpg  \n",
       "23   https://pbs.twimg.com/media/DD-40X3WAAAJPU5.jpg  "
      ]
     },
     "execution_count": 541,
     "metadata": {},
     "output_type": "execute_result"
    }
   ],
   "source": [
    "df_merged_tweets.sample(5)"
   ]
  },
  {
   "cell_type": "code",
   "execution_count": 542,
   "metadata": {},
   "outputs": [],
   "source": [
    "#store the merged data in a csv\n",
    "df_merged_tweets.to_csv(\"twitter_archive_master.csv\", encoding = \"utf-8\", index = False)"
   ]
  },
  {
   "cell_type": "markdown",
   "metadata": {},
   "source": [
    "### Visulizations and Insights"
   ]
  },
  {
   "cell_type": "code",
   "execution_count": 543,
   "metadata": {},
   "outputs": [
    {
     "data": {
      "image/png": "[encoded data removed]",
      "text/plain": [
       "<matplotlib.figure.Figure at 0x7f3c7ce827f0>"
      ]
     },
     "metadata": {
      "needs_background": "light"
     },
     "output_type": "display_data"
    }
   ],
   "source": [
    "# Plot the top 5 Dog names by frequency\n",
    "plt.figure(figsize=(15, 10))\n",
    "dog_names = df_merged_tweets.name.value_counts().nlargest(5).plot(kind = 'barh');\n",
    "dog_names.set_title('Dog Names By Frequency');\n",
    "dog_names.set_xlabel('Frequency');\n",
    "dog_names.set_ylabel('Dog Name');\n",
    "dog_names.set_xlim(1, 10);"
   ]
  },
  {
   "cell_type": "code",
   "execution_count": 544,
   "metadata": {},
   "outputs": [
    {
     "data": {
      "text/plain": [
       "p1\n",
       "clumber                   27.0\n",
       "Afghan_hound              13.0\n",
       "Saluki                    13.0\n",
       "curly-coated_retriever    13.0\n",
       "Border_terrier            12.5\n",
       "Name: rating_numerator, dtype: float64"
      ]
     },
     "execution_count": 544,
     "metadata": {},
     "output_type": "execute_result"
    }
   ],
   "source": [
    "# Dog breed with highest numerator\n",
    "df_merged_tweets.groupby('p1').rating_numerator.mean().nlargest(5)"
   ]
  },
  {
   "cell_type": "markdown",
   "metadata": {},
   "source": [
    "#### Insight\n",
    "* Clumber breed has hight numeric rating of 27 and seems popular as there is a wide margin between this and the second highest favored breeds."
   ]
  },
  {
   "cell_type": "code",
   "execution_count": 545,
   "metadata": {},
   "outputs": [
    {
     "data": {
      "text/plain": [
       "count    657.000000\n",
       "mean      11.130898\n",
       "std        1.758578\n",
       "min        2.000000\n",
       "25%       10.000000\n",
       "50%       11.000000\n",
       "75%       12.000000\n",
       "max       27.000000\n",
       "Name: rating_numerator, dtype: float64"
      ]
     },
     "execution_count": 545,
     "metadata": {},
     "output_type": "execute_result"
    }
   ],
   "source": [
    "df_merged_tweets.rating_numerator.describe()"
   ]
  },
  {
   "cell_type": "markdown",
   "metadata": {},
   "source": [
    "#### Insight\n",
    "* The mean of rating numerator is 12.137.  On Average most dogs have a value between 10 and 12. (corresponding 1st quartile and 3rd quartile values)."
   ]
  },
  {
   "cell_type": "code",
   "execution_count": 546,
   "metadata": {},
   "outputs": [
    {
     "data": {
      "text/plain": [
       "golden_retriever      76\n",
       "Pembroke              52\n",
       "Labrador_retriever    43\n",
       "Chihuahua             34\n",
       "pug                   31\n",
       "Name: p1, dtype: int64"
      ]
     },
     "execution_count": 546,
     "metadata": {},
     "output_type": "execute_result"
    }
   ],
   "source": [
    "# Top p1 Dog breed predictions\n",
    "df_merged_tweets.p1.value_counts().nlargest(5)"
   ]
  },
  {
   "cell_type": "markdown",
   "metadata": {},
   "source": [
    "#### Insight\n",
    "* Golden Retriever is favored in most predictions "
   ]
  },
  {
   "cell_type": "code",
   "execution_count": 547,
   "metadata": {},
   "outputs": [
    {
     "data": {
      "text/plain": [
       "0.78769214916286145"
      ]
     },
     "execution_count": 547,
     "metadata": {},
     "output_type": "execute_result"
    }
   ],
   "source": [
    "# mean confidence of p1 predictions are\n",
    "df_merged_tweets.p1_conf.mean()"
   ]
  },
  {
   "cell_type": "markdown",
   "metadata": {},
   "source": [
    "#### Insight\n",
    "* There is a 78.77% mean confidence that the predictions of the images are correct"
   ]
  },
  {
   "cell_type": "code",
   "execution_count": 548,
   "metadata": {},
   "outputs": [],
   "source": [
    "#Convert tht timestamp column to date_teim format\n",
    "df_merged_tweets['timestamp'] = pd.to_datetime(master_clean['timestamp'])"
   ]
  },
  {
   "cell_type": "code",
   "execution_count": 550,
   "metadata": {},
   "outputs": [],
   "source": [
    "#Calculate retweena and favorite counts on weekly basis\n",
    "retweet_samp = df_merged_tweets.resample('W', on='timestamp').mean()['retweet_count']\n",
    "favorite_samp = df_merged_tweets.resample('W', on='timestamp').mean()['favorite_count']"
   ]
  },
  {
   "cell_type": "code",
   "execution_count": 552,
   "metadata": {},
   "outputs": [
    {
     "data": {
      "text/plain": [
       "<matplotlib.legend.Legend at 0x7f3c7cd22be0>"
      ]
     },
     "execution_count": 552,
     "metadata": {},
     "output_type": "execute_result"
    },
    {
     "data": {
      "image/png": "[encoded data removed]",
      "text/plain": [
       "<matplotlib.figure.Figure at 0x7f3c7ce1bcf8>"
      ]
     },
     "metadata": {},
     "output_type": "display_data"
    }
   ],
   "source": [
    "#Plot the above counts\n",
    "sns.set(rc={'figure.figsize':(15, 10)})\n",
    "fig, ax = plt.subplots()\n",
    "ax.plot(retweet_samp, marker='+', linestyle='dashed', lw=0.75, label='Retweet Counts')\n",
    "ax.plot(favorite_samp, marker='+', markersize=3,  linestyle='solid', label='Favorite Counts')\n",
    "ax.set_ylabel('Counts')\n",
    "ax.set_xlabel('Time Period')\n",
    "ax.legend()"
   ]
  },
  {
   "cell_type": "markdown",
   "metadata": {},
   "source": [
    "#### Insight\n",
    "Retweet count has close relation to Favorite count as they seem to follow similar patterns on the graph and around June, 2017 most people retweeted."
   ]
  },
  {
   "cell_type": "code",
   "execution_count": 553,
   "metadata": {},
   "outputs": [
    {
     "data": {
      "text/html": [
       "<div>\n",
       "<style scoped>\n",
       "    .dataframe tbody tr th:only-of-type {\n",
       "        vertical-align: middle;\n",
       "    }\n",
       "\n",
       "    .dataframe tbody tr th {\n",
       "        vertical-align: top;\n",
       "    }\n",
       "\n",
       "    .dataframe thead th {\n",
       "        text-align: right;\n",
       "    }\n",
       "</style>\n",
       "<table border=\"1\" class=\"dataframe\">\n",
       "  <thead>\n",
       "    <tr style=\"text-align: right;\">\n",
       "      <th></th>\n",
       "      <th>dog_class</th>\n",
       "      <th>rating_numerator</th>\n",
       "    </tr>\n",
       "  </thead>\n",
       "  <tbody>\n",
       "    <tr>\n",
       "      <th>0</th>\n",
       "      <td>doggo</td>\n",
       "      <td>1.215000</td>\n",
       "    </tr>\n",
       "    <tr>\n",
       "      <th>1</th>\n",
       "      <td>floofer</td>\n",
       "      <td>1.200000</td>\n",
       "    </tr>\n",
       "    <tr>\n",
       "      <th>2</th>\n",
       "      <td>pupper</td>\n",
       "      <td>1.104615</td>\n",
       "    </tr>\n",
       "    <tr>\n",
       "      <th>3</th>\n",
       "      <td>puppo</td>\n",
       "      <td>1.218182</td>\n",
       "    </tr>\n",
       "  </tbody>\n",
       "</table>\n",
       "</div>"
      ],
      "text/plain": [
       "  dog_class  rating_numerator\n",
       "0     doggo          1.215000\n",
       "1   floofer          1.200000\n",
       "2    pupper          1.104615\n",
       "3     puppo          1.218182"
      ]
     },
     "execution_count": 553,
     "metadata": {},
     "output_type": "execute_result"
    }
   ],
   "source": [
    "# Compute average rating per dog stage\n",
    "avg_dog_class = (df_merged_tweets.groupby('dog_class')['rating_numerator'].mean()/10).reset_index()\n",
    "avg_dog_class"
   ]
  },
  {
   "cell_type": "code",
   "execution_count": 564,
   "metadata": {},
   "outputs": [
    {
     "data": {
      "image/png": "[encoded data removed]",
      "text/plain": [
       "<matplotlib.figure.Figure at 0x7f3c7ca51a20>"
      ]
     },
     "metadata": {},
     "output_type": "display_data"
    }
   ],
   "source": [
    "# visualization\n",
    "loc = np.arange(len(avg_dog_class['dog_class'])) * 2\n",
    "plt.bar(loc, avg_dog_class['rating_numerator'])\n",
    "plt.ylabel('Rating') \n",
    "plt.ylim(bottom=1.0, top=1.22)\n",
    "plt.xlabel('Dog Class')\n",
    "plt.xticks(loc, avg_dog_class['dog_class'] )\n",
    "plt.title('Average Rating Per Dog Class')\n",
    "plt.rcParams[\"figure.figsize\"] = (10, 4);"
   ]
  },
  {
   "cell_type": "markdown",
   "metadata": {},
   "source": [
    "#### Insight\n",
    "Pupper seem to be least Rated "
   ]
  }
 ],
 "metadata": {
  "kernelspec": {
   "display_name": "Python 3",
   "language": "python",
   "name": "python3"
  },
  "language_info": {
   "codemirror_mode": {
    "name": "ipython",
    "version": 3
   },
   "file_extension": ".py",
   "mimetype": "text/x-python",
   "name": "python",
   "nbconvert_exporter": "python",
   "pygments_lexer": "ipython3",
   "version": "3.6.3"
  }
 },
 "nbformat": 4,
 "nbformat_minor": 2
}
